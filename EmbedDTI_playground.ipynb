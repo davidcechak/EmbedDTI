{
  "nbformat": 4,
  "nbformat_minor": 0,
  "metadata": {
    "colab": {
      "name": "EmbedDTI_playground.ipynb",
      "provenance": [],
      "collapsed_sections": [],
      "authorship_tag": "ABX9TyMViULOdSIHtrMvbBIx3ZI1",
      "include_colab_link": true
    },
    "kernelspec": {
      "name": "python3",
      "display_name": "Python 3"
    },
    "language_info": {
      "name": "python"
    },
    "accelerator": "GPU",
    "gpuClass": "standard"
  },
  "cells": [
    {
      "cell_type": "markdown",
      "metadata": {
        "id": "view-in-github",
        "colab_type": "text"
      },
      "source": [
        "<a href=\"https://colab.research.google.com/github/davidcechak/EmbedDTI/blob/master/EmbedDTI_playground.ipynb\" target=\"_parent\"><img src=\"https://colab.research.google.com/assets/colab-badge.svg\" alt=\"Open In Colab\"/></a>"
      ]
    },
    {
      "cell_type": "code",
      "execution_count": 24,
      "metadata": {
        "id": "PiFF5D6LcY21",
        "outputId": "6b207319-ab0e-4520-dd94-7c8c41ef2bd7",
        "colab": {
          "base_uri": "https://localhost:8080/"
        }
      },
      "outputs": [
        {
          "output_type": "stream",
          "name": "stdout",
          "text": [
            "fatal: destination path 'EmbedDTI' already exists and is not an empty directory.\n"
          ]
        }
      ],
      "source": [
        "!git clone https://github.com/davidcechak/EmbedDTI.git"
      ]
    },
    {
      "cell_type": "code",
      "source": [
        "!ls"
      ],
      "metadata": {
        "id": "yNDzbp4zlm5Y",
        "outputId": "221e0ebf-e5df-415b-9329-0af9cbf9f3ac",
        "colab": {
          "base_uri": "https://localhost:8080/"
        }
      },
      "execution_count": 25,
      "outputs": [
        {
          "output_type": "stream",
          "name": "stdout",
          "text": [
            "data  EmbedDTI\tsample_data\n"
          ]
        }
      ]
    },
    {
      "cell_type": "code",
      "source": [
        "!cd EmbedDTI"
      ],
      "metadata": {
        "id": "RX8PffgAmHvj"
      },
      "execution_count": 26,
      "outputs": []
    },
    {
      "cell_type": "code",
      "source": [
        "!pip install rdkit"
      ],
      "metadata": {
        "id": "XupTuBXrmohS",
        "outputId": "795345fd-bc42-41fe-a000-5647c6cd218d",
        "colab": {
          "base_uri": "https://localhost:8080/"
        }
      },
      "execution_count": 27,
      "outputs": [
        {
          "output_type": "stream",
          "name": "stdout",
          "text": [
            "Looking in indexes: https://pypi.org/simple, https://us-python.pkg.dev/colab-wheels/public/simple/\n",
            "Requirement already satisfied: rdkit in /usr/local/lib/python3.7/dist-packages (2022.3.4)\n",
            "Requirement already satisfied: numpy in /usr/local/lib/python3.7/dist-packages (from rdkit) (1.21.6)\n",
            "Requirement already satisfied: Pillow in /usr/local/lib/python3.7/dist-packages (from rdkit) (7.1.2)\n"
          ]
        }
      ]
    },
    {
      "cell_type": "code",
      "source": [
        "!pip install torch_geometric"
      ],
      "metadata": {
        "colab": {
          "base_uri": "https://localhost:8080/"
        },
        "id": "1ykCEjCknUDv",
        "outputId": "be29d565-185a-4d4d-a042-3e0f4f65815e"
      },
      "execution_count": 28,
      "outputs": [
        {
          "output_type": "stream",
          "name": "stdout",
          "text": [
            "Looking in indexes: https://pypi.org/simple, https://us-python.pkg.dev/colab-wheels/public/simple/\n",
            "Requirement already satisfied: torch_geometric in /usr/local/lib/python3.7/dist-packages (2.0.5)\n",
            "Requirement already satisfied: scipy in /usr/local/lib/python3.7/dist-packages (from torch_geometric) (1.7.3)\n",
            "Requirement already satisfied: tqdm in /usr/local/lib/python3.7/dist-packages (from torch_geometric) (4.64.0)\n",
            "Requirement already satisfied: numpy in /usr/local/lib/python3.7/dist-packages (from torch_geometric) (1.21.6)\n",
            "Requirement already satisfied: pyparsing in /usr/local/lib/python3.7/dist-packages (from torch_geometric) (3.0.9)\n",
            "Requirement already satisfied: scikit-learn in /usr/local/lib/python3.7/dist-packages (from torch_geometric) (1.0.2)\n",
            "Requirement already satisfied: requests in /usr/local/lib/python3.7/dist-packages (from torch_geometric) (2.23.0)\n",
            "Requirement already satisfied: jinja2 in /usr/local/lib/python3.7/dist-packages (from torch_geometric) (2.11.3)\n",
            "Requirement already satisfied: MarkupSafe>=0.23 in /usr/local/lib/python3.7/dist-packages (from jinja2->torch_geometric) (2.0.1)\n",
            "Requirement already satisfied: chardet<4,>=3.0.2 in /usr/local/lib/python3.7/dist-packages (from requests->torch_geometric) (3.0.4)\n",
            "Requirement already satisfied: idna<3,>=2.5 in /usr/local/lib/python3.7/dist-packages (from requests->torch_geometric) (2.10)\n",
            "Requirement already satisfied: certifi>=2017.4.17 in /usr/local/lib/python3.7/dist-packages (from requests->torch_geometric) (2022.6.15)\n",
            "Requirement already satisfied: urllib3!=1.25.0,!=1.25.1,<1.26,>=1.21.1 in /usr/local/lib/python3.7/dist-packages (from requests->torch_geometric) (1.24.3)\n",
            "Requirement already satisfied: threadpoolctl>=2.0.0 in /usr/local/lib/python3.7/dist-packages (from scikit-learn->torch_geometric) (3.1.0)\n",
            "Requirement already satisfied: joblib>=0.11 in /usr/local/lib/python3.7/dist-packages (from scikit-learn->torch_geometric) (1.1.0)\n"
          ]
        }
      ]
    },
    {
      "cell_type": "code",
      "source": [
        "# FIX torch-sparse bug https://stackoverflow.com/a/71764992\n",
        "import torch \n",
        "print(torch.__version__)\n",
        "!pip uninstall torch-scatter torch-sparse torch-geometric torch-cluster --yes\n",
        "!pip install torch-scatter -f https://data.pyg.org/whl/torch-{torch.__version__}.html\n",
        "!pip install torch-sparse -f https://data.pyg.org/whl/torch-{torch.__version__}.html\n",
        "!pip install torch-cluster -f https://data.pyg.org/whl/torch-{torch.__version__}.html\n",
        "!pip install git+https://github.com/pyg-team/pytorch_geometric.git"
      ],
      "metadata": {
        "colab": {
          "base_uri": "https://localhost:8080/",
          "height": 1000
        },
        "id": "DTGeusNXn_Fo",
        "outputId": "86f9555b-6c10-4cb0-8abd-63a64cc93325"
      },
      "execution_count": 29,
      "outputs": [
        {
          "output_type": "stream",
          "name": "stdout",
          "text": [
            "1.12.0+cu113\n",
            "Found existing installation: torch-scatter 2.0.9\n",
            "Uninstalling torch-scatter-2.0.9:\n",
            "  Successfully uninstalled torch-scatter-2.0.9\n",
            "Found existing installation: torch-sparse 0.6.14\n",
            "Uninstalling torch-sparse-0.6.14:\n",
            "  Successfully uninstalled torch-sparse-0.6.14\n",
            "Found existing installation: torch-geometric 2.0.5\n",
            "Uninstalling torch-geometric-2.0.5:\n",
            "  Successfully uninstalled torch-geometric-2.0.5\n",
            "Found existing installation: torch-cluster 1.6.0\n",
            "Uninstalling torch-cluster-1.6.0:\n",
            "  Successfully uninstalled torch-cluster-1.6.0\n",
            "Looking in indexes: https://pypi.org/simple, https://us-python.pkg.dev/colab-wheels/public/simple/\n",
            "Looking in links: https://data.pyg.org/whl/torch-1.12.0+cu113.html\n",
            "Collecting torch-scatter\n",
            "  Using cached https://data.pyg.org/whl/torch-1.12.0%2Bcu113/torch_scatter-2.0.9-cp37-cp37m-linux_x86_64.whl (7.9 MB)\n",
            "Installing collected packages: torch-scatter\n",
            "Successfully installed torch-scatter-2.0.9\n"
          ]
        },
        {
          "output_type": "display_data",
          "data": {
            "application/vnd.colab-display-data+json": {
              "pip_warning": {
                "packages": [
                  "torch_scatter"
                ]
              }
            }
          },
          "metadata": {}
        },
        {
          "output_type": "stream",
          "name": "stdout",
          "text": [
            "Looking in indexes: https://pypi.org/simple, https://us-python.pkg.dev/colab-wheels/public/simple/\n",
            "Looking in links: https://data.pyg.org/whl/torch-1.12.0+cu113.html\n",
            "Collecting torch-sparse\n",
            "  Using cached https://data.pyg.org/whl/torch-1.12.0%2Bcu113/torch_sparse-0.6.14-cp37-cp37m-linux_x86_64.whl (3.5 MB)\n",
            "Requirement already satisfied: scipy in /usr/local/lib/python3.7/dist-packages (from torch-sparse) (1.7.3)\n",
            "Requirement already satisfied: numpy<1.23.0,>=1.16.5 in /usr/local/lib/python3.7/dist-packages (from scipy->torch-sparse) (1.21.6)\n",
            "Installing collected packages: torch-sparse\n",
            "Successfully installed torch-sparse-0.6.14\n"
          ]
        },
        {
          "output_type": "display_data",
          "data": {
            "application/vnd.colab-display-data+json": {
              "pip_warning": {
                "packages": [
                  "torch_sparse"
                ]
              }
            }
          },
          "metadata": {}
        },
        {
          "output_type": "stream",
          "name": "stdout",
          "text": [
            "Looking in indexes: https://pypi.org/simple, https://us-python.pkg.dev/colab-wheels/public/simple/\n",
            "Looking in links: https://data.pyg.org/whl/torch-1.12.0+cu113.html\n",
            "Collecting torch-cluster\n",
            "  Using cached https://data.pyg.org/whl/torch-1.12.0%2Bcu113/torch_cluster-1.6.0-cp37-cp37m-linux_x86_64.whl (2.4 MB)\n",
            "Installing collected packages: torch-cluster\n",
            "Successfully installed torch-cluster-1.6.0\n",
            "Looking in indexes: https://pypi.org/simple, https://us-python.pkg.dev/colab-wheels/public/simple/\n",
            "Collecting git+https://github.com/pyg-team/pytorch_geometric.git\n",
            "  Cloning https://github.com/pyg-team/pytorch_geometric.git to /tmp/pip-req-build-bylbs52m\n",
            "  Running command git clone -q https://github.com/pyg-team/pytorch_geometric.git /tmp/pip-req-build-bylbs52m\n",
            "Requirement already satisfied: tqdm in /usr/local/lib/python3.7/dist-packages (from torch-geometric==2.0.5) (4.64.0)\n",
            "Requirement already satisfied: numpy in /usr/local/lib/python3.7/dist-packages (from torch-geometric==2.0.5) (1.21.6)\n",
            "Requirement already satisfied: scipy in /usr/local/lib/python3.7/dist-packages (from torch-geometric==2.0.5) (1.7.3)\n",
            "Requirement already satisfied: jinja2 in /usr/local/lib/python3.7/dist-packages (from torch-geometric==2.0.5) (2.11.3)\n",
            "Requirement already satisfied: requests in /usr/local/lib/python3.7/dist-packages (from torch-geometric==2.0.5) (2.23.0)\n",
            "Requirement already satisfied: pyparsing in /usr/local/lib/python3.7/dist-packages (from torch-geometric==2.0.5) (3.0.9)\n",
            "Requirement already satisfied: scikit-learn in /usr/local/lib/python3.7/dist-packages (from torch-geometric==2.0.5) (1.0.2)\n",
            "Requirement already satisfied: MarkupSafe>=0.23 in /usr/local/lib/python3.7/dist-packages (from jinja2->torch-geometric==2.0.5) (2.0.1)\n",
            "Requirement already satisfied: chardet<4,>=3.0.2 in /usr/local/lib/python3.7/dist-packages (from requests->torch-geometric==2.0.5) (3.0.4)\n",
            "Requirement already satisfied: certifi>=2017.4.17 in /usr/local/lib/python3.7/dist-packages (from requests->torch-geometric==2.0.5) (2022.6.15)\n",
            "Requirement already satisfied: urllib3!=1.25.0,!=1.25.1,<1.26,>=1.21.1 in /usr/local/lib/python3.7/dist-packages (from requests->torch-geometric==2.0.5) (1.24.3)\n",
            "Requirement already satisfied: idna<3,>=2.5 in /usr/local/lib/python3.7/dist-packages (from requests->torch-geometric==2.0.5) (2.10)\n",
            "Requirement already satisfied: threadpoolctl>=2.0.0 in /usr/local/lib/python3.7/dist-packages (from scikit-learn->torch-geometric==2.0.5) (3.1.0)\n",
            "Requirement already satisfied: joblib>=0.11 in /usr/local/lib/python3.7/dist-packages (from scikit-learn->torch-geometric==2.0.5) (1.1.0)\n",
            "Building wheels for collected packages: torch-geometric\n",
            "  Building wheel for torch-geometric (setup.py) ... \u001b[?25l\u001b[?25hdone\n",
            "  Created wheel for torch-geometric: filename=torch_geometric-2.0.5-py3-none-any.whl size=679050 sha256=9cf576864d4420dff7934b9fd62267a38d009d1ef22f1c546b7ac51daa2be87a\n",
            "  Stored in directory: /tmp/pip-ephem-wheel-cache-udrtjjga/wheels/85/c9/07/7936efecad79b906348a7e9fb644d914160544efa9aa7f4b2b\n",
            "Successfully built torch-geometric\n",
            "Installing collected packages: torch-geometric\n",
            "Successfully installed torch-geometric-2.0.5\n"
          ]
        },
        {
          "output_type": "display_data",
          "data": {
            "application/vnd.colab-display-data+json": {
              "pip_warning": {
                "packages": [
                  "torch_geometric"
                ]
              }
            }
          },
          "metadata": {}
        }
      ]
    },
    {
      "cell_type": "code",
      "source": [
        "#coding=utf-8\n",
        "import pandas as pd\n",
        "import numpy as np\n",
        "import os\n",
        "import json,pickle\n",
        "from collections import OrderedDict\n",
        "from rdkit import Chem\n",
        "from rdkit.Chem import MolFromSmiles\n",
        "import networkx as nx\n",
        "from scipy.sparse import csr_matrix\n",
        "# imports TestbedDataset, rmse, mse, pearson, spearman, ci\n",
        "from EmbedDTI.utils import *\n",
        "from collections import defaultdict\n",
        "from rdkit.Chem.EnumerateStereoisomers import EnumerateStereoisomers, StereoEnumerationOptions\n",
        "from rdkit.Chem import AllChem\n",
        "\n",
        "\n",
        "def read_data(filename):\n",
        "    df = pd.read_csv('EmbedDTI/data/'+filename)\n",
        "    drugs,proteins,Y = list(df['compound_iso_smiles']),list(df['target_sequence']),list(df['affinity'])\n",
        "\n",
        "    return drugs,proteins,Y\n",
        "\n",
        "\n",
        "# read files(train and test)\n",
        "davis_train_drugs,davis_train_proteins,davis_train_Y = read_data(\"davis_train.csv\")\n",
        "davis_test_drugs,davis_test_proteins,davis_test_Y = read_data(\"davis_test.csv\")\n",
        "drugs = davis_train_drugs+davis_test_drugs\n",
        "print(len(drugs)) # 30056\n",
        "\n",
        "\n",
        "# 处理蛋白质序列，构建蛋白质字典\n",
        "# Process protein sequences and build protein dictionaries\n",
        "seq_voc = \"ABCDEFGHIKLMNOPQRSTUVWXYZ\"\n",
        "seq_dict = {v:(i+1) for i,v in enumerate(seq_voc)}\n",
        "seq_dict_len = len(seq_dict)\n",
        "max_seq_len = 1000\n",
        "# print(seq_dict)\n",
        "\n",
        "\n",
        "def seq_cat(prot):\n",
        "    x = np.zeros(max_seq_len)\n",
        "    for i, ch in enumerate(prot[:max_seq_len]): \n",
        "        x[i] = seq_dict[ch]\n",
        "    return x  \n",
        "\n",
        "train_prots = [seq_cat(t) for t in davis_train_proteins]\n",
        "test_prots = [seq_cat(t) for t in davis_test_proteins]\n",
        "print(len(train_prots))  # 25046\n",
        "print(len(test_prots))   # 5010\n",
        "\n",
        "\n",
        "# 处理SMILES序列，转化为原子的图结构\n",
        "# Process SMILES sequences into graph structures of atoms\n",
        "def atom_features(atom):\n",
        "    return np.array(one_of_k_encoding_unk(atom.GetSymbol(),['C', 'N', 'O', 'S', 'F', 'Si', 'P', 'Cl', 'Br', 'Mg', 'Na','Ca', 'Fe', 'As', 'Al', 'I', 'B', 'V', 'K', 'Tl', 'Yb','Sb', 'Sn', 'Ag', 'Pd', 'Co', 'Se', 'Ti', 'Zn', 'H','Li', 'Ge', 'Cu', 'Au', 'Ni', 'Cd', 'In', 'Mn', 'Zr','Cr', 'Pt', 'Hg', 'Pb', 'Unknown']) +\n",
        "                    one_of_k_encoding(atom.GetDegree(), [0, 1, 2, 3, 4, 5, 6, 7, 8, 9, 10]) +\n",
        "                    one_of_k_encoding_unk(atom.GetTotalNumHs(), [0, 1, 2, 3, 4, 5, 6, 7, 8, 9, 10]) +\n",
        "                    one_of_k_encoding_unk(atom.GetImplicitValence(), [0, 1, 2, 3, 4, 5, 6, 7, 8, 9, 10]) + # 返回原子上隐式Hs的数量\n",
        "                    one_of_k_encoding_unk(atom.GetTotalValence(),[0,1,2,3,4,5,6,7,8,9,10]) +\n",
        "                    one_of_k_encoding_unk(atom.GetFormalCharge(),[0,1,2,3,4,5,6,7,8,9,10]) +\n",
        "                    [atom.GetIsAromatic()] +\n",
        "                    [atom.IsInRing()]\n",
        "                    )\n",
        "\n",
        "def one_of_k_encoding(x, allowable_set):\n",
        "    if x not in allowable_set:\n",
        "        raise Exception(\"input {0} not in allowable set{1}:\".format(x, allowable_set))\n",
        "    return list(map(lambda s: x == s, allowable_set))\n",
        "\n",
        "def one_of_k_encoding_unk(x, allowable_set):\n",
        "    \"\"\"Maps inputs not in the allowable set to the last element.\"\"\"\n",
        "    if x not in allowable_set:\n",
        "        x = allowable_set[-1]\n",
        "    return list(map(lambda s: x == s, allowable_set))\n",
        "\n",
        "\n",
        "def smile_to_graph(smile):\n",
        "    mol = Chem.MolFromSmiles(smile)\n",
        "    \n",
        "    c_size = mol.GetNumAtoms()  # 原子数 Atomic number\n",
        "    \n",
        "    features = [] \n",
        "    for atom in mol.GetAtoms():\n",
        "        feature = atom_features(atom)\n",
        "        features.append( feature / sum(feature) )\n",
        "\n",
        "    edges = []\n",
        "    for bond in mol.GetBonds():\n",
        "        edges.append([bond.GetBeginAtomIdx(), bond.GetEndAtomIdx()])\n",
        "    # 构建有向图 Building a directed graph\n",
        "    g = nx.Graph(edges).to_directed()\n",
        "    edge_index = []\n",
        "    for e1, e2 in g.edges:\n",
        "        edge_index.append([e1, e2])\n",
        "    return c_size, features, edge_index\n",
        "\n",
        "\n",
        "compounds = []\n",
        "for smile in drugs:\n",
        "    lg = Chem.MolToSmiles(Chem.MolFromSmiles(smile),isomericSmiles=True)\n",
        "    compounds.append(lg)\n",
        "print(\"原始SMILES数量：Original SMILES quantity\", len(compounds))  # 30056 \n",
        "smile_graph = {}\n",
        "compound_smiles = set(compounds)\n",
        "print(\"不重复的SMILES数量: Number of unique SMILES\", len(compound_smiles))   # 68\n",
        "for smile in compound_smiles:\n",
        "    g = smile_to_graph(smile) # c_size, features, edge_index\n",
        "    smile_graph[smile] = g\n",
        "print(\"simile_graph长度:\", len(smile_graph))  # 68\n",
        "\n",
        "\n",
        "\n",
        "# # 处理SMILES序列，转化为基团的图结构 Process SMILES sequences into graph structures of groups\n",
        "\n",
        "MST_MAX_WEIGHT = 100 \n",
        "\n",
        "def get_mol(smiles):\n",
        "    mol = Chem.MolFromSmiles(smiles)\n",
        "    if mol is None: \n",
        "        return None\n",
        "    Chem.Kekulize(mol)\n",
        "    return mol\n",
        "\n",
        "# 构建邻接矩阵和特征矩阵\n",
        "# Build Adjacency Matrix and Feature Matrix\n",
        "# the \"idx\" argument is not used in the cluster_graph function\n",
        "# originally: def cluster_graph(mol,idx):\n",
        "def cluster_graph(mol,idx=None):\n",
        "\tn_atoms = mol.GetNumAtoms()\n",
        "\t# if n_atoms == 1: #special case\n",
        " #    \treturn [[0]], []\n",
        "\tcliques = []\n",
        "\tfor bond in mol.GetBonds():\n",
        "\t\ta1 = bond.GetBeginAtom().GetIdx()\n",
        "\t\ta2 = bond.GetEndAtom().GetIdx()\n",
        "\t\tif not bond.IsInRing():\n",
        "\t\t\tcliques.append([a1,a2])\n",
        "\n",
        "\tssr = [list(x) for x in Chem.GetSymmSSSR(mol)]\n",
        "\tcliques.extend(ssr)\n",
        "\n",
        "\t# nei_list为原子属于哪个基团\n",
        "\tnei_list = [[] for i in range(n_atoms)]\n",
        "\tfor i in range(len(cliques)):\n",
        "\t    for atom in cliques[i]:\n",
        "\t        nei_list[atom].append(i)\n",
        "\n",
        "\t#Merge Rings with intersection > 2 atoms\n",
        "\tfor i in range(len(cliques)):\n",
        "\t\tif len(cliques[i]) <= 2: continue\n",
        "\t\tfor atom in cliques[i]:\n",
        "\t\t\tfor j in nei_list[atom]:\n",
        "\t\t\t\tif i >= j or len(cliques[j]) <= 2: \n",
        "\t\t\t\t\tcontinue\n",
        "\t\t\t\tinter = set(cliques[i]) & set(cliques[j])\n",
        "\t\t\t\tif len(inter) > 2:\n",
        "\t\t\t\t\tcliques[i].extend(cliques[j])\n",
        "\t\t\t\t\tcliques[i] = list(set(cliques[i]))\n",
        "\t\t\t\t\tcliques[j] = []\n",
        "    \n",
        "\tcliques = [c for c in cliques if len(c) > 0]\n",
        "\tnei_list = [[] for i in range(n_atoms)]\n",
        "\tfor i in range(len(cliques)):\n",
        "\t\tfor atom in cliques[i]:\n",
        "\t\t\tnei_list[atom].append(i)\n",
        "\n",
        "\t# Build edges and add singleton cliques\n",
        "\tedges = defaultdict(int)\n",
        "\tfor atom in range(n_atoms):\n",
        "\t\tif len(nei_list[atom]) <= 1: \n",
        "\t\t\tcontinue\n",
        "\t\tcnei = nei_list[atom]\n",
        "\t\tbonds = [c for c in cnei if len(cliques[c]) == 2]\n",
        "\t\trings = [c for c in cnei if len(cliques[c]) > 4]\n",
        "\t\t\n",
        "\t\tfor i in range(len(cnei)):\n",
        "\t\t\tfor j in range(i + 1, len(cnei)):\n",
        "\t\t\t\tc1,c2 = cnei[i],cnei[j]\n",
        "\t\t\t\tinter = set(cliques[c1]) & set(cliques[c2])\n",
        "\t\t\t\tif edges[(c1,c2)] < len(inter):\n",
        "\t\t\t\t\tedges[(c1,c2)] = len(inter) # cnei[i] < cnei[j] by construction\n",
        "\t\t\t\t\tedges[(c2,c1)] = len(inter)\n",
        "\n",
        "\tedges = [u + (MST_MAX_WEIGHT-v,) for u,v in edges.items()]\n",
        "\trow,col,data = zip(*edges)\n",
        "\tdata = list(data)\n",
        "\tfor i in range(len(data)):\n",
        "\t\tdata[i] = 1\n",
        "\tdata = tuple(data)\n",
        "\tn_clique = len(cliques)\n",
        "\tclique_graph = csr_matrix( (data,(row,col)), shape=(n_clique,n_clique) )\n",
        "\tedges = [[row[i],col[i]] for i in range(len(row))]\n",
        "\t\n",
        "\treturn cliques, edges\n",
        "\n",
        "\n",
        "\n",
        "def clique_features(clique,edges,clique_idx,smile):\n",
        "    NumAtoms = len(clique) # 基团中除去氢原子的原子数\n",
        "    NumEdges = 0  # 与基团所连的边数\n",
        "    for edge in edges:\n",
        "        if clique_idx == edge[0] or clique_idx == edge[1]:\n",
        "            NumEdges += 1\n",
        "    mol = Chem.MolFromSmiles(smile)\n",
        "    NumHs = 0 # 基团中氢原子的个数\n",
        "    for atom in mol.GetAtoms():\n",
        "        if atom.GetAtomMapNum() in clique:\n",
        "            NumHs += atom.GetTotalNumHs()\n",
        "    # 基团中是否包含环\n",
        "    IsRing = 0\n",
        "    if len(clique) > 2:\n",
        "        IsRing = 1\n",
        "    # 基团中是否有键\n",
        "    IsBond = 0\n",
        "    if len(clique) == 2:\n",
        "        IsBond = 1\n",
        "\n",
        "    return np.array(one_of_k_encoding_unk(NumAtoms,[0,1,2,3,4,5,6,7,8,9,10]) + \n",
        "        one_of_k_encoding_unk(NumEdges,[0,1,2,3,4,5,6,7,8,9,10]) + \n",
        "        one_of_k_encoding_unk(NumHs,[0,1,2,3,4,5,6,7,8,9,10]) + \n",
        "        [IsRing] + \n",
        "        [IsBond]\n",
        "        )\n",
        "\n",
        "# Adjacency matrix, three-dimensional matrix, each graph is a two-dimensional matrix\n",
        "cluster = [] # 邻接矩阵, 三维矩阵，每一张图是一个二维矩阵 \n",
        "# Connecting edge matrix, three-dimensional matrix, each graph is a two-dimensional matrix\n",
        "edges = []  # 连接边矩阵, 三维矩阵，每一张图是一个二维矩阵\n",
        "\n",
        "for i,smile in enumerate(compound_smiles):\n",
        "    try:\n",
        "        mol = get_mol(smile)\n",
        "        clique,edge = cluster_graph(mol,i)\n",
        "        cluster.append(clique)\n",
        "        edges.append(edge)\n",
        "    except:\n",
        "        print('Error:',i)\n",
        "\n",
        "print(len(cluster))  # 68\n",
        "print(len(edges))   # 68\n",
        "\n",
        "clique_graph = {}\n",
        "for i,smile in enumerate(compound_smiles):\n",
        "    c_features = []\n",
        "    for idx in range(len(cluster[i])):\n",
        "        cq_features = clique_features(cluster[i][idx],edges[i],idx,smile)\n",
        "        c_features.append( cq_features / sum(cq_features) )\n",
        "    clique_size = len(cluster[i])\n",
        "    graph = (clique_size, c_features, edges[i])\n",
        "    clique_graph[smile] = graph\n",
        "\n",
        "print(\"clique_graph长度:\", len(clique_graph))  # 68\n",
        "\n",
        "train_drugs, train_prots,  train_Y = np.asarray(davis_train_drugs), np.asarray(train_prots), np.asarray(davis_train_Y)\n",
        "test_drugs, test_prots,  test_Y = np.asarray(davis_test_drugs), np.asarray(test_prots), np.asarray(davis_test_Y)\n",
        "\n",
        "train_data = TestbedDataset(root='data', dataset='davis_train', xd=train_drugs, xt=train_prots, y=train_Y,smile_graph=smile_graph,clique_graph=clique_graph)\n",
        "test_data = TestbedDataset(root='data', dataset='davis_test', xd=test_drugs, xt=test_prots, y=test_Y,smile_graph=smile_graph,clique_graph=clique_graph)\n",
        "\n",
        "\n",
        "\n",
        "\n",
        "\n"
      ],
      "metadata": {
        "id": "fdU_i54amJgM",
        "outputId": "3bde80d1-813b-4679-e8c8-d98af7a41991",
        "colab": {
          "base_uri": "https://localhost:8080/"
        }
      },
      "execution_count": 30,
      "outputs": [
        {
          "output_type": "stream",
          "name": "stdout",
          "text": [
            "30056\n",
            "25046\n",
            "5010\n",
            "原始SMILES数量：Original SMILES quantity 30056\n",
            "不重复的SMILES数量: Number of unique SMILES 68\n",
            "simile_graph长度: 68\n",
            "68\n",
            "68\n",
            "clique_graph长度: 68\n",
            "Pre-processed data found: data/processed/davis_train_atom.pt and data/processed/davis_train_clique.pt, loading ...\n",
            "Pre-processed data found: data/processed/davis_test_atom.pt and data/processed/davis_test_clique.pt, loading ...\n"
          ]
        }
      ]
    },
    {
      "cell_type": "code",
      "source": [
        "print(train_data)\n",
        "print(train_data.data_list_clique)\n",
        "print(train_data.data_list_atom)\n",
        "print(train_data.dataset)\n"
      ],
      "metadata": {
        "id": "1VVModt8mi_U",
        "colab": {
          "base_uri": "https://localhost:8080/"
        },
        "outputId": "de5987dc-ec53-4ff7-da1d-883b7b6b4a90"
      },
      "execution_count": null,
      "outputs": [
        {
          "output_type": "stream",
          "name": "stdout",
          "text": [
            "TestbedDataset()\n",
            "Data(x=[390782, 35], edge_index=[2, 821712], y=[25046], target=[25046, 1000], c_size=[25046])\n",
            "Data(x=[803206, 101], edge_index=[2, 1776072], y=[25046], target=[25046, 1000], c_size=[25046])\n",
            "davis_train\n"
          ]
        }
      ]
    },
    {
      "cell_type": "code",
      "source": [
        "def embedDTI_smile_preprocess(smile_to_process, test_MolToSmiles):\n",
        "    # atom representation\n",
        "    if (test_MolToSmiles):\n",
        "        smile_to_process = Chem.MolToSmiles(Chem.MolFromSmiles(smile_to_process),isomericSmiles=True)\n",
        "    atom_result = smile_to_graph(smile_to_process)\n",
        "\n",
        "    print(type(atom_result))\n",
        "    print(np.array(atom_result[0]))\n",
        "    print(np.array(atom_result[1]).shape)\n",
        "    print(np.array(atom_result[2]).shape)\n",
        "    print('__________________')\n",
        "\n",
        "\n",
        "    # substructure representation\n",
        "    our_mol = get_mol(smile_to_process)\n",
        "    our_clique, our_edge = cluster_graph(our_mol)\n",
        "\n",
        "    print(our_mol)\n",
        "    print(our_clique)\n",
        "    print(our_edge)\n",
        "\n",
        "    c_features = []\n",
        "    for idx in range(len(our_clique)):\n",
        "        # TODO check if it has to be canonical SMILES or not\n",
        "        cq_features = clique_features(our_clique[idx],our_edge,idx,smile_to_process)\n",
        "        c_features.append( cq_features / sum(cq_features) )\n",
        "    clique_size = len(our_clique)\n",
        "    graph = (clique_size, c_features, our_edge)\n",
        "\n",
        "    return atom_result, graph\n"
      ],
      "metadata": {
        "id": "fa65DswCFjhP"
      },
      "execution_count": 66,
      "outputs": []
    },
    {
      "cell_type": "code",
      "source": [
        "# our_smile = 'CN(C)CCOC(C1=CC=CC=C1)C1=CC=CC=C1'\n",
        "for i in [0,10,11,32,4,5]:\n",
        "  our_smile = drugs[i]\n",
        "  abc, deef = embedDTI_smile_preprocess(our_smile, True)\n",
        "  abcX, deefX = embedDTI_smile_preprocess(our_smile, False)\n"
      ],
      "metadata": {
        "colab": {
          "base_uri": "https://localhost:8080/"
        },
        "id": "FeoTAjOpHqU2",
        "outputId": "326f2f7a-8fcc-4a5a-911e-7849ee023de2"
      },
      "execution_count": 67,
      "outputs": [
        {
          "output_type": "stream",
          "name": "stdout",
          "text": [
            "<class 'tuple'>\n",
            "25\n",
            "(25, 101)\n",
            "(54, 2)\n",
            "__________________\n",
            "<rdkit.Chem.rdchem.Mol object at 0x7fcc5aa53c60>\n",
            "[[0, 1], [1, 2], [2, 3], [1, 9], [13, 14], [14, 15], [15, 16], [15, 17], [18, 19], [23, 24], [4, 5, 6, 7, 8, 3], [10, 9, 13, 12, 11], [18, 20, 21, 22, 23, 17]]\n",
            "[[0, 1], [1, 0], [0, 3], [3, 0], [1, 3], [3, 1], [1, 2], [2, 1], [2, 10], [10, 2], [3, 11], [11, 3], [4, 11], [11, 4], [4, 5], [5, 4], [5, 6], [6, 5], [5, 7], [7, 5], [6, 7], [7, 6], [7, 12], [12, 7], [8, 12], [12, 8], [9, 12], [12, 9]]\n",
            "<class 'tuple'>\n",
            "25\n",
            "(25, 101)\n",
            "(54, 2)\n",
            "__________________\n",
            "<rdkit.Chem.rdchem.Mol object at 0x7fcc59aeac60>\n",
            "[[0, 1], [1, 2], [2, 3], [1, 9], [13, 14], [14, 15], [15, 16], [15, 17], [18, 19], [23, 24], [4, 5, 6, 7, 8, 3], [10, 9, 13, 12, 11], [18, 20, 21, 22, 23, 17]]\n",
            "[[0, 1], [1, 0], [0, 3], [3, 0], [1, 3], [3, 1], [1, 2], [2, 1], [2, 10], [10, 2], [3, 11], [11, 3], [4, 11], [11, 4], [4, 5], [5, 4], [5, 6], [6, 5], [5, 7], [7, 5], [6, 7], [7, 6], [7, 12], [12, 7], [8, 12], [12, 8], [9, 12], [12, 9]]\n",
            "<class 'tuple'>\n",
            "19\n",
            "(19, 101)\n",
            "(42, 2)\n",
            "__________________\n",
            "<rdkit.Chem.rdchem.Mol object at 0x7fcc58cccf80>\n",
            "[[0, 1], [4, 5], [5, 6], [5, 7], [11, 12], [1, 18, 17, 4, 3, 2], [8, 7, 16, 15, 9], [10, 11, 13, 14, 15, 9]]\n",
            "[[0, 5], [5, 0], [1, 5], [5, 1], [1, 2], [2, 1], [1, 3], [3, 1], [2, 3], [3, 2], [3, 6], [6, 3], [6, 7], [7, 6], [4, 7], [7, 4]]\n",
            "<class 'tuple'>\n",
            "19\n",
            "(19, 101)\n",
            "(42, 2)\n",
            "__________________\n",
            "<rdkit.Chem.rdchem.Mol object at 0x7fcc5aa5b300>\n",
            "[[0, 1], [4, 5], [5, 6], [5, 7], [11, 12], [1, 18, 17, 4, 3, 2], [8, 7, 16, 15, 9], [10, 11, 13, 14, 15, 9]]\n",
            "[[0, 5], [5, 0], [1, 5], [5, 1], [1, 2], [2, 1], [1, 3], [3, 1], [2, 3], [3, 2], [3, 6], [6, 3], [6, 7], [7, 6], [4, 7], [7, 4]]\n",
            "<class 'tuple'>\n",
            "35\n",
            "(35, 101)\n",
            "(80, 2)\n",
            "__________________\n",
            "<rdkit.Chem.rdchem.Mol object at 0x7fcc5aa43bc0>\n",
            "[[0, 1], [1, 2], [1, 3], [1, 4], [7, 8], [8, 9], [13, 14], [24, 25], [4, 34, 33, 7, 6, 5], [10, 9, 32, 31, 11], [12, 13, 23, 24, 31, 11], [15, 16, 17, 18, 22, 14], [19, 18, 22, 21, 20], [26, 27, 28, 29, 30, 25]]\n",
            "[[0, 1], [1, 0], [0, 2], [2, 0], [0, 3], [3, 0], [1, 2], [2, 1], [1, 3], [3, 1], [2, 3], [3, 2], [3, 8], [8, 3], [4, 8], [8, 4], [4, 5], [5, 4], [5, 9], [9, 5], [9, 10], [10, 9], [6, 10], [10, 6], [6, 11], [11, 6], [11, 12], [12, 11], [7, 10], [10, 7], [7, 13], [13, 7]]\n",
            "<class 'tuple'>\n",
            "35\n",
            "(35, 101)\n",
            "(80, 2)\n",
            "__________________\n",
            "<rdkit.Chem.rdchem.Mol object at 0x7fcc5aa73d50>\n",
            "[[0, 1], [1, 2], [1, 3], [1, 4], [7, 8], [8, 9], [13, 14], [24, 25], [4, 34, 33, 7, 6, 5], [10, 9, 32, 31, 11], [12, 13, 23, 24, 31, 11], [15, 16, 17, 18, 22, 14], [19, 18, 22, 21, 20], [26, 27, 28, 29, 30, 25]]\n",
            "[[0, 1], [1, 0], [0, 2], [2, 0], [0, 3], [3, 0], [1, 2], [2, 1], [1, 3], [3, 1], [2, 3], [3, 2], [3, 8], [8, 3], [4, 8], [8, 4], [4, 5], [5, 4], [5, 9], [9, 5], [9, 10], [10, 9], [6, 10], [10, 6], [6, 11], [11, 6], [11, 12], [12, 11], [7, 10], [10, 7], [7, 13], [13, 7]]\n",
            "<class 'tuple'>\n",
            "33\n",
            "(33, 101)\n",
            "(74, 2)\n",
            "__________________\n",
            "<rdkit.Chem.rdchem.Mol object at 0x7fcc58cd6f80>\n",
            "[[0, 1], [1, 2], [5, 6], [6, 7], [12, 13], [16, 17], [23, 24], [24, 25], [25, 26], [26, 27], [27, 28], [2, 23, 22, 21, 4, 3], [8, 9, 10, 15, 16, 7], [11, 10, 15, 14, 12], [18, 19, 20, 21, 4, 5], [29, 28, 32, 31, 30]]\n",
            "[[0, 1], [1, 0], [1, 11], [11, 1], [11, 14], [14, 11], [2, 14], [14, 2], [2, 3], [3, 2], [3, 12], [12, 3], [12, 13], [13, 12], [4, 13], [13, 4], [5, 12], [12, 5], [6, 11], [11, 6], [6, 7], [7, 6], [7, 8], [8, 7], [8, 9], [9, 8], [9, 10], [10, 9], [10, 15], [15, 10]]\n",
            "<class 'tuple'>\n",
            "33\n",
            "(33, 101)\n",
            "(74, 2)\n",
            "__________________\n",
            "<rdkit.Chem.rdchem.Mol object at 0x7fcc5aa53a30>\n",
            "[[0, 1], [1, 2], [5, 6], [6, 7], [12, 13], [16, 17], [23, 24], [24, 25], [25, 26], [26, 27], [27, 28], [2, 23, 22, 21, 4, 3], [8, 9, 10, 15, 16, 7], [11, 10, 15, 14, 12], [18, 19, 20, 21, 4, 5], [29, 28, 32, 31, 30]]\n",
            "[[0, 1], [1, 0], [1, 11], [11, 1], [11, 14], [14, 11], [2, 14], [14, 2], [2, 3], [3, 2], [3, 12], [12, 3], [12, 13], [13, 12], [4, 13], [13, 4], [5, 12], [12, 5], [6, 11], [11, 6], [6, 7], [7, 6], [7, 8], [8, 7], [8, 9], [9, 8], [9, 10], [10, 9], [10, 15], [15, 10]]\n",
            "<class 'tuple'>\n",
            "34\n",
            "(34, 101)\n",
            "(74, 2)\n",
            "__________________\n",
            "<rdkit.Chem.rdchem.Mol object at 0x7fcc5844de40>\n",
            "[[0, 1], [1, 2], [1, 3], [3, 4], [4, 5], [5, 6], [6, 7], [6, 8], [8, 9], [12, 13], [13, 14], [17, 18], [19, 20], [27, 28], [28, 29], [9, 27, 26, 25, 11, 10], [15, 16, 17, 19, 21, 14], [22, 23, 24, 25, 11, 12], [30, 29, 33, 32, 31]]\n",
            "[[0, 1], [1, 0], [0, 2], [2, 0], [1, 2], [2, 1], [2, 3], [3, 2], [3, 4], [4, 3], [4, 5], [5, 4], [5, 6], [6, 5], [5, 7], [7, 5], [6, 7], [7, 6], [7, 8], [8, 7], [8, 15], [15, 8], [15, 17], [17, 15], [9, 17], [17, 9], [9, 10], [10, 9], [10, 16], [16, 10], [11, 16], [16, 11], [12, 16], [16, 12], [13, 15], [15, 13], [13, 14], [14, 13], [14, 18], [18, 14]]\n",
            "<class 'tuple'>\n",
            "34\n",
            "(34, 101)\n",
            "(74, 2)\n",
            "__________________\n",
            "<rdkit.Chem.rdchem.Mol object at 0x7fcc5aa64ee0>\n",
            "[[0, 1], [1, 2], [1, 3], [3, 4], [4, 5], [5, 6], [6, 7], [6, 8], [8, 9], [12, 13], [13, 14], [17, 18], [19, 20], [27, 28], [28, 29], [9, 27, 26, 25, 11, 10], [15, 16, 17, 19, 21, 14], [22, 23, 24, 25, 11, 12], [30, 29, 33, 32, 31]]\n",
            "[[0, 1], [1, 0], [0, 2], [2, 0], [1, 2], [2, 1], [2, 3], [3, 2], [3, 4], [4, 3], [4, 5], [5, 4], [5, 6], [6, 5], [5, 7], [7, 5], [6, 7], [7, 6], [7, 8], [8, 7], [8, 15], [15, 8], [15, 17], [17, 15], [9, 17], [17, 9], [9, 10], [10, 9], [10, 16], [16, 10], [11, 16], [16, 11], [12, 16], [16, 12], [13, 15], [15, 13], [13, 14], [14, 13], [14, 18], [18, 14]]\n",
            "<class 'tuple'>\n",
            "34\n",
            "(34, 101)\n",
            "(74, 2)\n",
            "__________________\n",
            "<rdkit.Chem.rdchem.Mol object at 0x7fcc5aa73300>\n",
            "[[0, 1], [1, 2], [1, 3], [3, 4], [4, 5], [5, 6], [6, 7], [6, 8], [8, 9], [12, 13], [13, 14], [17, 18], [19, 20], [27, 28], [28, 29], [9, 27, 26, 25, 11, 10], [15, 16, 17, 19, 21, 14], [22, 23, 24, 25, 11, 12], [30, 29, 33, 32, 31]]\n",
            "[[0, 1], [1, 0], [0, 2], [2, 0], [1, 2], [2, 1], [2, 3], [3, 2], [3, 4], [4, 3], [4, 5], [5, 4], [5, 6], [6, 5], [5, 7], [7, 5], [6, 7], [7, 6], [7, 8], [8, 7], [8, 15], [15, 8], [15, 17], [17, 15], [9, 17], [17, 9], [9, 10], [10, 9], [10, 16], [16, 10], [11, 16], [16, 11], [12, 16], [16, 12], [13, 15], [15, 13], [13, 14], [14, 13], [14, 18], [18, 14]]\n",
            "<class 'tuple'>\n",
            "34\n",
            "(34, 101)\n",
            "(74, 2)\n",
            "__________________\n",
            "<rdkit.Chem.rdchem.Mol object at 0x7fcc5aa63cb0>\n",
            "[[0, 1], [1, 2], [1, 3], [3, 4], [4, 5], [5, 6], [6, 7], [6, 8], [8, 9], [12, 13], [13, 14], [17, 18], [19, 20], [27, 28], [28, 29], [9, 27, 26, 25, 11, 10], [15, 16, 17, 19, 21, 14], [22, 23, 24, 25, 11, 12], [30, 29, 33, 32, 31]]\n",
            "[[0, 1], [1, 0], [0, 2], [2, 0], [1, 2], [2, 1], [2, 3], [3, 2], [3, 4], [4, 3], [4, 5], [5, 4], [5, 6], [6, 5], [5, 7], [7, 5], [6, 7], [7, 6], [7, 8], [8, 7], [8, 15], [15, 8], [15, 17], [17, 15], [9, 17], [17, 9], [9, 10], [10, 9], [10, 16], [16, 10], [11, 16], [16, 11], [12, 16], [16, 12], [13, 15], [15, 13], [13, 14], [14, 13], [14, 18], [18, 14]]\n"
          ]
        }
      ]
    },
    {
      "cell_type": "code",
      "source": [
        "import numpy as np\n",
        "\n",
        "our_smile = 'CN(C)CCOC(C1=CC=CC=C1)C1=CC=CC=C1'\n",
        "\n",
        "# ? are isomericSmiles necessery or does Dimitris handles this?\n",
        "# do we want it to canonical SMILES or not?\n",
        "# our_smile = Chem.MolToSmiles(Chem.MolFromSmiles(our_smile),isomericSmiles=True)\n",
        "atom_result = smile_to_graph(our_smile)\n",
        "print(type(atom_result))\n",
        "print(np.array(atom_result[0]))\n",
        "print(np.array(atom_result[1]).shape)\n",
        "print(np.array(atom_result[2]).shape)"
      ],
      "metadata": {
        "colab": {
          "base_uri": "https://localhost:8080/"
        },
        "id": "xhs3zs_4VSB4",
        "outputId": "d756969d-710a-4912-9b2c-373df2c58a42"
      },
      "execution_count": 31,
      "outputs": [
        {
          "output_type": "stream",
          "name": "stdout",
          "text": [
            "<class 'tuple'>\n",
            "19\n",
            "(19, 101)\n",
            "(40, 2)\n"
          ]
        }
      ]
    },
    {
      "cell_type": "code",
      "source": [
        "our_mol = get_mol(our_smile)\n",
        "our_clique, our_edge = cluster_graph(our_mol)\n",
        "\n",
        "print(our_mol)\n",
        "print(our_clique)\n",
        "print(our_edge)\n"
      ],
      "metadata": {
        "colab": {
          "base_uri": "https://localhost:8080/"
        },
        "id": "0fBVDVEnnyc8",
        "outputId": "a992e5c8-345e-443c-e72f-10f5923d4c5a"
      },
      "execution_count": 34,
      "outputs": [
        {
          "output_type": "stream",
          "name": "stdout",
          "text": [
            "<rdkit.Chem.rdchem.Mol object at 0x7fcc584497b0>\n",
            "[[0, 1], [1, 2], [1, 3], [3, 4], [4, 5], [5, 6], [6, 7], [6, 13], [8, 9, 10, 11, 12, 7], [14, 15, 16, 17, 18, 13]]\n",
            "[[0, 1], [1, 0], [0, 2], [2, 0], [1, 2], [2, 1], [2, 3], [3, 2], [3, 4], [4, 3], [4, 5], [5, 4], [5, 6], [6, 5], [5, 7], [7, 5], [6, 7], [7, 6], [6, 8], [8, 6], [7, 9], [9, 7]]\n"
          ]
        }
      ]
    },
    {
      "cell_type": "code",
      "source": [
        "cluster = [our_clique]\n",
        "edges = [our_edge]\n",
        "i = 0\n",
        "\n",
        "c_features = []\n",
        "for idx in range(len(cluster[i])):\n",
        "    # TODO check if it has to be canonical SMILES or not\n",
        "    cq_features = clique_features(cluster[i][idx],edges[i],idx,our_smile)\n",
        "    c_features.append( cq_features / sum(cq_features) )\n",
        "clique_size = len(cluster[i])\n",
        "graph = (clique_size, c_features, edges[i])"
      ],
      "metadata": {
        "id": "M6H6OviP-LwG"
      },
      "execution_count": null,
      "outputs": []
    },
    {
      "cell_type": "code",
      "source": [
        "print(graph[0])\n",
        "print(np.array(graph[1]).shape)\n",
        "print(np.array(graph[2]).shape)"
      ],
      "metadata": {
        "colab": {
          "base_uri": "https://localhost:8080/"
        },
        "id": "omjQFXe8-bd9",
        "outputId": "3cdde739-cdf8-4d46-d205-8fecc403cd51"
      },
      "execution_count": 49,
      "outputs": [
        {
          "output_type": "stream",
          "name": "stdout",
          "text": [
            "10\n",
            "(10, 35)\n",
            "(46, 2)\n"
          ]
        }
      ]
    },
    {
      "cell_type": "code",
      "source": [
        "# Adjacency matrix, three-dimensional matrix, each graph is a two-dimensional matrix\n",
        "cluster = [] # 邻接矩阵, 三维矩阵，每一张图是一个二维矩阵 \n",
        "# Connecting edge matrix, three-dimensional matrix, each graph is a two-dimensional matrix\n",
        "edges = []  # 连接边矩阵, 三维矩阵，每一张图是一个二维矩阵\n",
        "\n",
        "for smile in compound_smiles:\n",
        "    try:\n",
        "        mol = get_mol(smile)\n",
        "        clique,edge = cluster_graph(mol)\n",
        "        cluster.append(clique)\n",
        "        edges.append(edge)\n",
        "    except:\n",
        "        print('Error:')\n",
        "\n",
        "print(len(cluster))  # 68\n",
        "print(len(edges))   # 68\n",
        "\n",
        "clique_graph = {}\n",
        "for i,smile in enumerate(compound_smiles):\n",
        "    c_features = []\n",
        "    for idx in range(len(cluster[i])):\n",
        "        cq_features = clique_features(cluster[i][idx],edges[i],idx,smile)\n",
        "        c_features.append( cq_features / sum(cq_features) )\n",
        "    clique_size = len(cluster[i])\n",
        "    graph = (clique_size, c_features, edges[i])\n",
        "    clique_graph[smile] = graph\n",
        "\n",
        "print(\"clique_graph长度:\", len(clique_graph))  # 68"
      ],
      "metadata": {
        "id": "eqDEh__VSRMp"
      },
      "execution_count": null,
      "outputs": []
    },
    {
      "cell_type": "code",
      "source": [
        "# # To use the processed TestbedDataset send it to pytorch DataLoader\n",
        "# from torch_geometric.data import DataLoader\n",
        "\n",
        "# TRAIN_BATCH_SIZE = 32\n",
        "# TEST_BATCH_SIZE = 32\n",
        "# train_loader = DataLoader(train_data, batch_size=TRAIN_BATCH_SIZE, shuffle=True)\n",
        "# test_loader = DataLoader(test_data, batch_size=TEST_BATCH_SIZE, shuffle=True)"
      ],
      "metadata": {
        "colab": {
          "base_uri": "https://localhost:8080/"
        },
        "id": "m45OyfUbx2BR",
        "outputId": "3c2900dd-886e-42ce-9724-04957f122f55"
      },
      "execution_count": null,
      "outputs": [
        {
          "output_type": "stream",
          "name": "stderr",
          "text": [
            "/usr/local/lib/python3.7/dist-packages/torch_geometric/deprecation.py:12: UserWarning: 'data.DataLoader' is deprecated, use 'loader.DataLoader' instead\n",
            "  warnings.warn(out)\n"
          ]
        }
      ]
    },
    {
      "cell_type": "code",
      "source": [
        "# next(iter(test_loader))"
      ],
      "metadata": {
        "colab": {
          "base_uri": "https://localhost:8080/",
          "height": 346
        },
        "id": "6cuAuSyI0PAt",
        "outputId": "7cfc1994-3a19-495c-b6e5-fd72ff5ae757"
      },
      "execution_count": null,
      "outputs": [
        {
          "output_type": "error",
          "ename": "TypeError",
          "evalue": "ignored",
          "traceback": [
            "\u001b[0;31m---------------------------------------------------------------------------\u001b[0m",
            "\u001b[0;31mTypeError\u001b[0m                                 Traceback (most recent call last)",
            "\u001b[0;32m<ipython-input-56-abeaf91d5fab>\u001b[0m in \u001b[0;36m<module>\u001b[0;34m()\u001b[0m\n\u001b[1;32m      1\u001b[0m \u001b[0;31m# next(iter(test_loader))\u001b[0m\u001b[0;34m\u001b[0m\u001b[0;34m\u001b[0m\u001b[0;34m\u001b[0m\u001b[0m\n\u001b[0;32m----> 2\u001b[0;31m \u001b[0;32mfor\u001b[0m \u001b[0mi\u001b[0m\u001b[0;34m,\u001b[0m\u001b[0mj\u001b[0m \u001b[0;32min\u001b[0m \u001b[0menumerate\u001b[0m\u001b[0;34m(\u001b[0m\u001b[0mtest_loader\u001b[0m\u001b[0;34m)\u001b[0m\u001b[0;34m:\u001b[0m\u001b[0;34m\u001b[0m\u001b[0;34m\u001b[0m\u001b[0m\n\u001b[0m\u001b[1;32m      3\u001b[0m   \u001b[0mprint\u001b[0m\u001b[0;34m(\u001b[0m\u001b[0mi\u001b[0m\u001b[0;34m,\u001b[0m\u001b[0mj\u001b[0m\u001b[0;34m)\u001b[0m\u001b[0;34m\u001b[0m\u001b[0;34m\u001b[0m\u001b[0m\n",
            "\u001b[0;32m/usr/local/lib/python3.7/dist-packages/torch/utils/data/dataloader.py\u001b[0m in \u001b[0;36m__next__\u001b[0;34m(self)\u001b[0m\n\u001b[1;32m    650\u001b[0m                 \u001b[0;31m# TODO(https://github.com/pytorch/pytorch/issues/76750)\u001b[0m\u001b[0;34m\u001b[0m\u001b[0;34m\u001b[0m\u001b[0;34m\u001b[0m\u001b[0m\n\u001b[1;32m    651\u001b[0m                 \u001b[0mself\u001b[0m\u001b[0;34m.\u001b[0m\u001b[0m_reset\u001b[0m\u001b[0;34m(\u001b[0m\u001b[0;34m)\u001b[0m  \u001b[0;31m# type: ignore[call-arg]\u001b[0m\u001b[0;34m\u001b[0m\u001b[0;34m\u001b[0m\u001b[0m\n\u001b[0;32m--> 652\u001b[0;31m             \u001b[0mdata\u001b[0m \u001b[0;34m=\u001b[0m \u001b[0mself\u001b[0m\u001b[0;34m.\u001b[0m\u001b[0m_next_data\u001b[0m\u001b[0;34m(\u001b[0m\u001b[0;34m)\u001b[0m\u001b[0;34m\u001b[0m\u001b[0;34m\u001b[0m\u001b[0m\n\u001b[0m\u001b[1;32m    653\u001b[0m             \u001b[0mself\u001b[0m\u001b[0;34m.\u001b[0m\u001b[0m_num_yielded\u001b[0m \u001b[0;34m+=\u001b[0m \u001b[0;36m1\u001b[0m\u001b[0;34m\u001b[0m\u001b[0;34m\u001b[0m\u001b[0m\n\u001b[1;32m    654\u001b[0m             \u001b[0;32mif\u001b[0m \u001b[0mself\u001b[0m\u001b[0;34m.\u001b[0m\u001b[0m_dataset_kind\u001b[0m \u001b[0;34m==\u001b[0m \u001b[0m_DatasetKind\u001b[0m\u001b[0;34m.\u001b[0m\u001b[0mIterable\u001b[0m \u001b[0;32mand\u001b[0m\u001b[0;31m \u001b[0m\u001b[0;31m\\\u001b[0m\u001b[0;34m\u001b[0m\u001b[0;34m\u001b[0m\u001b[0m\n",
            "\u001b[0;32m/usr/local/lib/python3.7/dist-packages/torch/utils/data/dataloader.py\u001b[0m in \u001b[0;36m_next_data\u001b[0;34m(self)\u001b[0m\n\u001b[1;32m    690\u001b[0m     \u001b[0;32mdef\u001b[0m \u001b[0m_next_data\u001b[0m\u001b[0;34m(\u001b[0m\u001b[0mself\u001b[0m\u001b[0;34m)\u001b[0m\u001b[0;34m:\u001b[0m\u001b[0;34m\u001b[0m\u001b[0;34m\u001b[0m\u001b[0m\n\u001b[1;32m    691\u001b[0m         \u001b[0mindex\u001b[0m \u001b[0;34m=\u001b[0m \u001b[0mself\u001b[0m\u001b[0;34m.\u001b[0m\u001b[0m_next_index\u001b[0m\u001b[0;34m(\u001b[0m\u001b[0;34m)\u001b[0m  \u001b[0;31m# may raise StopIteration\u001b[0m\u001b[0;34m\u001b[0m\u001b[0;34m\u001b[0m\u001b[0m\n\u001b[0;32m--> 692\u001b[0;31m         \u001b[0mdata\u001b[0m \u001b[0;34m=\u001b[0m \u001b[0mself\u001b[0m\u001b[0;34m.\u001b[0m\u001b[0m_dataset_fetcher\u001b[0m\u001b[0;34m.\u001b[0m\u001b[0mfetch\u001b[0m\u001b[0;34m(\u001b[0m\u001b[0mindex\u001b[0m\u001b[0;34m)\u001b[0m  \u001b[0;31m# may raise StopIteration\u001b[0m\u001b[0;34m\u001b[0m\u001b[0;34m\u001b[0m\u001b[0m\n\u001b[0m\u001b[1;32m    693\u001b[0m         \u001b[0;32mif\u001b[0m \u001b[0mself\u001b[0m\u001b[0;34m.\u001b[0m\u001b[0m_pin_memory\u001b[0m\u001b[0;34m:\u001b[0m\u001b[0;34m\u001b[0m\u001b[0;34m\u001b[0m\u001b[0m\n\u001b[1;32m    694\u001b[0m             \u001b[0mdata\u001b[0m \u001b[0;34m=\u001b[0m \u001b[0m_utils\u001b[0m\u001b[0;34m.\u001b[0m\u001b[0mpin_memory\u001b[0m\u001b[0;34m.\u001b[0m\u001b[0mpin_memory\u001b[0m\u001b[0;34m(\u001b[0m\u001b[0mdata\u001b[0m\u001b[0;34m,\u001b[0m \u001b[0mself\u001b[0m\u001b[0;34m.\u001b[0m\u001b[0m_pin_memory_device\u001b[0m\u001b[0;34m)\u001b[0m\u001b[0;34m\u001b[0m\u001b[0;34m\u001b[0m\u001b[0m\n",
            "\u001b[0;32m/usr/local/lib/python3.7/dist-packages/torch/utils/data/_utils/fetch.py\u001b[0m in \u001b[0;36mfetch\u001b[0;34m(self, possibly_batched_index)\u001b[0m\n\u001b[1;32m     47\u001b[0m     \u001b[0;32mdef\u001b[0m \u001b[0mfetch\u001b[0m\u001b[0;34m(\u001b[0m\u001b[0mself\u001b[0m\u001b[0;34m,\u001b[0m \u001b[0mpossibly_batched_index\u001b[0m\u001b[0;34m)\u001b[0m\u001b[0;34m:\u001b[0m\u001b[0;34m\u001b[0m\u001b[0;34m\u001b[0m\u001b[0m\n\u001b[1;32m     48\u001b[0m         \u001b[0;32mif\u001b[0m \u001b[0mself\u001b[0m\u001b[0;34m.\u001b[0m\u001b[0mauto_collation\u001b[0m\u001b[0;34m:\u001b[0m\u001b[0;34m\u001b[0m\u001b[0;34m\u001b[0m\u001b[0m\n\u001b[0;32m---> 49\u001b[0;31m             \u001b[0mdata\u001b[0m \u001b[0;34m=\u001b[0m \u001b[0;34m[\u001b[0m\u001b[0mself\u001b[0m\u001b[0;34m.\u001b[0m\u001b[0mdataset\u001b[0m\u001b[0;34m[\u001b[0m\u001b[0midx\u001b[0m\u001b[0;34m]\u001b[0m \u001b[0;32mfor\u001b[0m \u001b[0midx\u001b[0m \u001b[0;32min\u001b[0m \u001b[0mpossibly_batched_index\u001b[0m\u001b[0;34m]\u001b[0m\u001b[0;34m\u001b[0m\u001b[0;34m\u001b[0m\u001b[0m\n\u001b[0m\u001b[1;32m     50\u001b[0m         \u001b[0;32melse\u001b[0m\u001b[0;34m:\u001b[0m\u001b[0;34m\u001b[0m\u001b[0;34m\u001b[0m\u001b[0m\n\u001b[1;32m     51\u001b[0m             \u001b[0mdata\u001b[0m \u001b[0;34m=\u001b[0m \u001b[0mself\u001b[0m\u001b[0;34m.\u001b[0m\u001b[0mdataset\u001b[0m\u001b[0;34m[\u001b[0m\u001b[0mpossibly_batched_index\u001b[0m\u001b[0;34m]\u001b[0m\u001b[0;34m\u001b[0m\u001b[0;34m\u001b[0m\u001b[0m\n",
            "\u001b[0;32m/usr/local/lib/python3.7/dist-packages/torch/utils/data/_utils/fetch.py\u001b[0m in \u001b[0;36m<listcomp>\u001b[0;34m(.0)\u001b[0m\n\u001b[1;32m     47\u001b[0m     \u001b[0;32mdef\u001b[0m \u001b[0mfetch\u001b[0m\u001b[0;34m(\u001b[0m\u001b[0mself\u001b[0m\u001b[0;34m,\u001b[0m \u001b[0mpossibly_batched_index\u001b[0m\u001b[0;34m)\u001b[0m\u001b[0;34m:\u001b[0m\u001b[0;34m\u001b[0m\u001b[0;34m\u001b[0m\u001b[0m\n\u001b[1;32m     48\u001b[0m         \u001b[0;32mif\u001b[0m \u001b[0mself\u001b[0m\u001b[0;34m.\u001b[0m\u001b[0mauto_collation\u001b[0m\u001b[0;34m:\u001b[0m\u001b[0;34m\u001b[0m\u001b[0;34m\u001b[0m\u001b[0m\n\u001b[0;32m---> 49\u001b[0;31m             \u001b[0mdata\u001b[0m \u001b[0;34m=\u001b[0m \u001b[0;34m[\u001b[0m\u001b[0mself\u001b[0m\u001b[0;34m.\u001b[0m\u001b[0mdataset\u001b[0m\u001b[0;34m[\u001b[0m\u001b[0midx\u001b[0m\u001b[0;34m]\u001b[0m \u001b[0;32mfor\u001b[0m \u001b[0midx\u001b[0m \u001b[0;32min\u001b[0m \u001b[0mpossibly_batched_index\u001b[0m\u001b[0;34m]\u001b[0m\u001b[0;34m\u001b[0m\u001b[0;34m\u001b[0m\u001b[0m\n\u001b[0m\u001b[1;32m     50\u001b[0m         \u001b[0;32melse\u001b[0m\u001b[0;34m:\u001b[0m\u001b[0;34m\u001b[0m\u001b[0;34m\u001b[0m\u001b[0m\n\u001b[1;32m     51\u001b[0m             \u001b[0mdata\u001b[0m \u001b[0;34m=\u001b[0m \u001b[0mself\u001b[0m\u001b[0;34m.\u001b[0m\u001b[0mdataset\u001b[0m\u001b[0;34m[\u001b[0m\u001b[0mpossibly_batched_index\u001b[0m\u001b[0;34m]\u001b[0m\u001b[0;34m\u001b[0m\u001b[0;34m\u001b[0m\u001b[0m\n",
            "\u001b[0;32m/content/EmbedDTI/utils.py\u001b[0m in \u001b[0;36m__getitem__\u001b[0;34m(self, idx)\u001b[0m\n\u001b[1;32m     45\u001b[0m \u001b[0;34m\u001b[0m\u001b[0m\n\u001b[1;32m     46\u001b[0m         \u001b[0;32mfor\u001b[0m \u001b[0mkey\u001b[0m \u001b[0;32min\u001b[0m \u001b[0mself\u001b[0m\u001b[0;34m.\u001b[0m\u001b[0mdata\u001b[0m\u001b[0;34m.\u001b[0m\u001b[0mkeys\u001b[0m\u001b[0;34m:\u001b[0m\u001b[0;34m\u001b[0m\u001b[0;34m\u001b[0m\u001b[0m\n\u001b[0;32m---> 47\u001b[0;31m             \u001b[0mitem\u001b[0m\u001b[0;34m,\u001b[0m \u001b[0mslices\u001b[0m \u001b[0;34m=\u001b[0m \u001b[0mself\u001b[0m\u001b[0;34m.\u001b[0m\u001b[0mdata\u001b[0m\u001b[0;34m[\u001b[0m\u001b[0mkey\u001b[0m\u001b[0;34m]\u001b[0m\u001b[0;34m,\u001b[0m \u001b[0mself\u001b[0m\u001b[0;34m.\u001b[0m\u001b[0mslices\u001b[0m\u001b[0;34m[\u001b[0m\u001b[0mkey\u001b[0m\u001b[0;34m]\u001b[0m\u001b[0;34m\u001b[0m\u001b[0;34m\u001b[0m\u001b[0m\n\u001b[0m\u001b[1;32m     48\u001b[0m             \u001b[0mstart\u001b[0m\u001b[0;34m,\u001b[0m \u001b[0mend\u001b[0m \u001b[0;34m=\u001b[0m \u001b[0mslices\u001b[0m\u001b[0;34m[\u001b[0m\u001b[0midx\u001b[0m\u001b[0;34m]\u001b[0m\u001b[0;34m.\u001b[0m\u001b[0mitem\u001b[0m\u001b[0;34m(\u001b[0m\u001b[0;34m)\u001b[0m\u001b[0;34m,\u001b[0m \u001b[0mslices\u001b[0m\u001b[0;34m[\u001b[0m\u001b[0midx\u001b[0m \u001b[0;34m+\u001b[0m \u001b[0;36m1\u001b[0m\u001b[0;34m]\u001b[0m\u001b[0;34m.\u001b[0m\u001b[0mitem\u001b[0m\u001b[0;34m(\u001b[0m\u001b[0;34m)\u001b[0m\u001b[0;34m\u001b[0m\u001b[0;34m\u001b[0m\u001b[0m\n\u001b[1;32m     49\u001b[0m             \u001b[0;31m# print(slices[idx], slices[idx + 1])\u001b[0m\u001b[0;34m\u001b[0m\u001b[0;34m\u001b[0m\u001b[0;34m\u001b[0m\u001b[0m\n",
            "\u001b[0;31mTypeError\u001b[0m: 'NoneType' object is not subscriptable"
          ]
        }
      ]
    },
    {
      "cell_type": "code",
      "source": [
        "# %cd EmbedDTI\n",
        "# !python3 predict_with_davis_orimodel.py 0\n",
        "# %cd ..\n"
      ],
      "metadata": {
        "colab": {
          "base_uri": "https://localhost:8080/"
        },
        "id": "VUzAj3Xb0oMU",
        "outputId": "40d0b837-3969-4e43-c02f-4465a896760e"
      },
      "execution_count": null,
      "outputs": [
        {
          "output_type": "stream",
          "name": "stdout",
          "text": [
            "/content/EmbedDTI\n",
            "Pre-processed data found: data/processed/davis_test_atom.pt and data/processed/davis_test_clique.pt, loading ...\n",
            "Traceback (most recent call last):\n",
            "  File \"predict_with_davis_orimodel.py\", line 42, in <module>\n",
            "    test_data = TestbedDataset(root='data', dataset='davis_test')\n",
            "  File \"/content/EmbedDTI/utils.py\", line 23, in __init__\n",
            "    self.data_list_atom, self.slices = torch.load(self.processed_paths[0])\n",
            "  File \"/usr/local/lib/python3.7/dist-packages/torch/serialization.py\", line 713, in load\n",
            "    return _legacy_load(opened_file, map_location, pickle_module, **pickle_load_args)\n",
            "  File \"/usr/local/lib/python3.7/dist-packages/torch/serialization.py\", line 920, in _legacy_load\n",
            "    magic_number = pickle_module.load(f, **pickle_load_args)\n",
            "_pickle.UnpicklingError: invalid load key, 'v'.\n",
            "/content\n"
          ]
        }
      ]
    },
    {
      "cell_type": "code",
      "source": [
        ""
      ],
      "metadata": {
        "id": "TbMbgx4lKZJs"
      },
      "execution_count": null,
      "outputs": []
    }
  ]
}