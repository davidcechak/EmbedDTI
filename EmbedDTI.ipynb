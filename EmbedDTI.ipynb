{
  "nbformat": 4,
  "nbformat_minor": 0,
  "metadata": {
    "colab": {
      "name": "EmbedDTI.ipynb",
      "provenance": [],
      "collapsed_sections": [],
      "authorship_tag": "ABX9TyO80sU9+nXguSCUsp9WfN2l",
      "include_colab_link": true
    },
    "kernelspec": {
      "name": "python3",
      "display_name": "Python 3"
    },
    "language_info": {
      "name": "python"
    },
    "accelerator": "GPU",
    "gpuClass": "standard"
  },
  "cells": [
    {
      "cell_type": "markdown",
      "metadata": {
        "id": "view-in-github",
        "colab_type": "text"
      },
      "source": [
        "<a href=\"https://colab.research.google.com/github/davidcechak/EmbedDTI/blob/master/EmbedDTI.ipynb\" target=\"_parent\"><img src=\"https://colab.research.google.com/assets/colab-badge.svg\" alt=\"Open In Colab\"/></a>"
      ]
    },
    {
      "cell_type": "code",
      "execution_count": 1,
      "metadata": {
        "id": "PiFF5D6LcY21",
        "outputId": "d70d8ea8-f9a9-4ab0-e754-33836118cce4",
        "colab": {
          "base_uri": "https://localhost:8080/"
        }
      },
      "outputs": [
        {
          "output_type": "stream",
          "name": "stdout",
          "text": [
            "fatal: destination path 'EmbedDTI' already exists and is not an empty directory.\n"
          ]
        }
      ],
      "source": [
        "!git clone https://github.com/davidcechak/EmbedDTI.git"
      ]
    },
    {
      "cell_type": "code",
      "source": [
        "!ls"
      ],
      "metadata": {
        "id": "yNDzbp4zlm5Y",
        "outputId": "20498516-f6e5-47bc-8b4b-7b107ff5e115",
        "colab": {
          "base_uri": "https://localhost:8080/"
        }
      },
      "execution_count": 2,
      "outputs": [
        {
          "output_type": "stream",
          "name": "stdout",
          "text": [
            "data  EmbedDTI\tsample_data\n"
          ]
        }
      ]
    },
    {
      "cell_type": "code",
      "source": [
        "!cd EmbedDTI"
      ],
      "metadata": {
        "id": "RX8PffgAmHvj"
      },
      "execution_count": 3,
      "outputs": []
    },
    {
      "cell_type": "code",
      "source": [
        "!pip install rdkit"
      ],
      "metadata": {
        "id": "XupTuBXrmohS",
        "outputId": "08b4e1f6-a88e-44c7-c232-29ab8bad886b",
        "colab": {
          "base_uri": "https://localhost:8080/"
        }
      },
      "execution_count": 4,
      "outputs": [
        {
          "output_type": "stream",
          "name": "stdout",
          "text": [
            "Looking in indexes: https://pypi.org/simple, https://us-python.pkg.dev/colab-wheels/public/simple/\n",
            "Requirement already satisfied: rdkit in /usr/local/lib/python3.7/dist-packages (2022.3.4)\n",
            "Requirement already satisfied: Pillow in /usr/local/lib/python3.7/dist-packages (from rdkit) (7.1.2)\n",
            "Requirement already satisfied: numpy in /usr/local/lib/python3.7/dist-packages (from rdkit) (1.21.6)\n"
          ]
        }
      ]
    },
    {
      "cell_type": "code",
      "source": [
        "!pip install torch_geometric"
      ],
      "metadata": {
        "colab": {
          "base_uri": "https://localhost:8080/"
        },
        "id": "1ykCEjCknUDv",
        "outputId": "3c699a47-2935-484c-8588-53f610e1e665"
      },
      "execution_count": 5,
      "outputs": [
        {
          "output_type": "stream",
          "name": "stdout",
          "text": [
            "Looking in indexes: https://pypi.org/simple, https://us-python.pkg.dev/colab-wheels/public/simple/\n",
            "Requirement already satisfied: torch_geometric in /usr/local/lib/python3.7/dist-packages (2.0.5)\n",
            "Requirement already satisfied: requests in /usr/local/lib/python3.7/dist-packages (from torch_geometric) (2.23.0)\n",
            "Requirement already satisfied: tqdm in /usr/local/lib/python3.7/dist-packages (from torch_geometric) (4.64.0)\n",
            "Requirement already satisfied: jinja2 in /usr/local/lib/python3.7/dist-packages (from torch_geometric) (2.11.3)\n",
            "Requirement already satisfied: numpy in /usr/local/lib/python3.7/dist-packages (from torch_geometric) (1.21.6)\n",
            "Requirement already satisfied: scikit-learn in /usr/local/lib/python3.7/dist-packages (from torch_geometric) (1.0.2)\n",
            "Requirement already satisfied: scipy in /usr/local/lib/python3.7/dist-packages (from torch_geometric) (1.7.3)\n",
            "Requirement already satisfied: pyparsing in /usr/local/lib/python3.7/dist-packages (from torch_geometric) (3.0.9)\n",
            "Requirement already satisfied: MarkupSafe>=0.23 in /usr/local/lib/python3.7/dist-packages (from jinja2->torch_geometric) (2.0.1)\n",
            "Requirement already satisfied: chardet<4,>=3.0.2 in /usr/local/lib/python3.7/dist-packages (from requests->torch_geometric) (3.0.4)\n",
            "Requirement already satisfied: idna<3,>=2.5 in /usr/local/lib/python3.7/dist-packages (from requests->torch_geometric) (2.10)\n",
            "Requirement already satisfied: certifi>=2017.4.17 in /usr/local/lib/python3.7/dist-packages (from requests->torch_geometric) (2022.6.15)\n",
            "Requirement already satisfied: urllib3!=1.25.0,!=1.25.1,<1.26,>=1.21.1 in /usr/local/lib/python3.7/dist-packages (from requests->torch_geometric) (1.24.3)\n",
            "Requirement already satisfied: joblib>=0.11 in /usr/local/lib/python3.7/dist-packages (from scikit-learn->torch_geometric) (1.1.0)\n",
            "Requirement already satisfied: threadpoolctl>=2.0.0 in /usr/local/lib/python3.7/dist-packages (from scikit-learn->torch_geometric) (3.1.0)\n"
          ]
        }
      ]
    },
    {
      "cell_type": "code",
      "source": [
        "# FIX torch-sparse bug https://stackoverflow.com/a/71764992\n",
        "import torch \n",
        "print(torch.__version__)\n",
        "!pip uninstall torch-scatter torch-sparse torch-geometric torch-cluster --yes\n",
        "!pip install torch-scatter -f https://data.pyg.org/whl/torch-{torch.__version__}.html\n",
        "!pip install torch-sparse -f https://data.pyg.org/whl/torch-{torch.__version__}.html\n",
        "!pip install torch-cluster -f https://data.pyg.org/whl/torch-{torch.__version__}.html\n",
        "!pip install git+https://github.com/pyg-team/pytorch_geometric.git"
      ],
      "metadata": {
        "colab": {
          "base_uri": "https://localhost:8080/"
        },
        "id": "DTGeusNXn_Fo",
        "outputId": "5d29e5fc-0317-45cf-8c97-806e40dfff69"
      },
      "execution_count": 6,
      "outputs": [
        {
          "output_type": "stream",
          "name": "stdout",
          "text": [
            "1.12.0+cu113\n",
            "Found existing installation: torch-scatter 2.0.9\n",
            "Uninstalling torch-scatter-2.0.9:\n",
            "  Successfully uninstalled torch-scatter-2.0.9\n",
            "Found existing installation: torch-sparse 0.6.14\n",
            "Uninstalling torch-sparse-0.6.14:\n",
            "  Successfully uninstalled torch-sparse-0.6.14\n",
            "Found existing installation: torch-geometric 2.0.5\n",
            "Uninstalling torch-geometric-2.0.5:\n",
            "  Successfully uninstalled torch-geometric-2.0.5\n",
            "Found existing installation: torch-cluster 1.6.0\n",
            "Uninstalling torch-cluster-1.6.0:\n",
            "  Successfully uninstalled torch-cluster-1.6.0\n",
            "Looking in indexes: https://pypi.org/simple, https://us-python.pkg.dev/colab-wheels/public/simple/\n",
            "Looking in links: https://data.pyg.org/whl/torch-1.12.0+cu113.html\n",
            "Collecting torch-scatter\n",
            "  Using cached https://data.pyg.org/whl/torch-1.12.0%2Bcu113/torch_scatter-2.0.9-cp37-cp37m-linux_x86_64.whl (7.9 MB)\n",
            "Installing collected packages: torch-scatter\n",
            "Successfully installed torch-scatter-2.0.9\n",
            "Looking in indexes: https://pypi.org/simple, https://us-python.pkg.dev/colab-wheels/public/simple/\n",
            "Looking in links: https://data.pyg.org/whl/torch-1.12.0+cu113.html\n",
            "Collecting torch-sparse\n",
            "  Using cached https://data.pyg.org/whl/torch-1.12.0%2Bcu113/torch_sparse-0.6.14-cp37-cp37m-linux_x86_64.whl (3.5 MB)\n",
            "Requirement already satisfied: scipy in /usr/local/lib/python3.7/dist-packages (from torch-sparse) (1.7.3)\n",
            "Requirement already satisfied: numpy<1.23.0,>=1.16.5 in /usr/local/lib/python3.7/dist-packages (from scipy->torch-sparse) (1.21.6)\n",
            "Installing collected packages: torch-sparse\n",
            "Successfully installed torch-sparse-0.6.14\n",
            "Looking in indexes: https://pypi.org/simple, https://us-python.pkg.dev/colab-wheels/public/simple/\n",
            "Looking in links: https://data.pyg.org/whl/torch-1.12.0+cu113.html\n",
            "Collecting torch-cluster\n",
            "  Using cached https://data.pyg.org/whl/torch-1.12.0%2Bcu113/torch_cluster-1.6.0-cp37-cp37m-linux_x86_64.whl (2.4 MB)\n",
            "Installing collected packages: torch-cluster\n",
            "Successfully installed torch-cluster-1.6.0\n",
            "Looking in indexes: https://pypi.org/simple, https://us-python.pkg.dev/colab-wheels/public/simple/\n",
            "Collecting git+https://github.com/pyg-team/pytorch_geometric.git\n",
            "  Cloning https://github.com/pyg-team/pytorch_geometric.git to /tmp/pip-req-build-36tx67hr\n",
            "  Running command git clone -q https://github.com/pyg-team/pytorch_geometric.git /tmp/pip-req-build-36tx67hr\n",
            "Requirement already satisfied: tqdm in /usr/local/lib/python3.7/dist-packages (from torch-geometric==2.0.5) (4.64.0)\n",
            "Requirement already satisfied: numpy in /usr/local/lib/python3.7/dist-packages (from torch-geometric==2.0.5) (1.21.6)\n",
            "Requirement already satisfied: scipy in /usr/local/lib/python3.7/dist-packages (from torch-geometric==2.0.5) (1.7.3)\n",
            "Requirement already satisfied: jinja2 in /usr/local/lib/python3.7/dist-packages (from torch-geometric==2.0.5) (2.11.3)\n",
            "Requirement already satisfied: requests in /usr/local/lib/python3.7/dist-packages (from torch-geometric==2.0.5) (2.23.0)\n",
            "Requirement already satisfied: pyparsing in /usr/local/lib/python3.7/dist-packages (from torch-geometric==2.0.5) (3.0.9)\n",
            "Requirement already satisfied: scikit-learn in /usr/local/lib/python3.7/dist-packages (from torch-geometric==2.0.5) (1.0.2)\n",
            "Requirement already satisfied: MarkupSafe>=0.23 in /usr/local/lib/python3.7/dist-packages (from jinja2->torch-geometric==2.0.5) (2.0.1)\n",
            "Requirement already satisfied: idna<3,>=2.5 in /usr/local/lib/python3.7/dist-packages (from requests->torch-geometric==2.0.5) (2.10)\n",
            "Requirement already satisfied: urllib3!=1.25.0,!=1.25.1,<1.26,>=1.21.1 in /usr/local/lib/python3.7/dist-packages (from requests->torch-geometric==2.0.5) (1.24.3)\n",
            "Requirement already satisfied: certifi>=2017.4.17 in /usr/local/lib/python3.7/dist-packages (from requests->torch-geometric==2.0.5) (2022.6.15)\n",
            "Requirement already satisfied: chardet<4,>=3.0.2 in /usr/local/lib/python3.7/dist-packages (from requests->torch-geometric==2.0.5) (3.0.4)\n",
            "Requirement already satisfied: threadpoolctl>=2.0.0 in /usr/local/lib/python3.7/dist-packages (from scikit-learn->torch-geometric==2.0.5) (3.1.0)\n",
            "Requirement already satisfied: joblib>=0.11 in /usr/local/lib/python3.7/dist-packages (from scikit-learn->torch-geometric==2.0.5) (1.1.0)\n",
            "Building wheels for collected packages: torch-geometric\n",
            "  Building wheel for torch-geometric (setup.py) ... \u001b[?25l\u001b[?25hdone\n",
            "  Created wheel for torch-geometric: filename=torch_geometric-2.0.5-py3-none-any.whl size=679050 sha256=cc0ae13a5e107ac2133192d25c55fe75255bcf884d4eef01bd1cf861875014c3\n",
            "  Stored in directory: /tmp/pip-ephem-wheel-cache-xi62hylj/wheels/85/c9/07/7936efecad79b906348a7e9fb644d914160544efa9aa7f4b2b\n",
            "Successfully built torch-geometric\n",
            "Installing collected packages: torch-geometric\n",
            "Successfully installed torch-geometric-2.0.5\n"
          ]
        }
      ]
    },
    {
      "cell_type": "markdown",
      "source": [
        "# Functions for drug processing"
      ],
      "metadata": {
        "id": "qBcnJA5aXQHA"
      }
    },
    {
      "cell_type": "code",
      "source": [
        "#coding=utf-8\n",
        "import pandas as pd\n",
        "import numpy as np\n",
        "import os\n",
        "import json,pickle\n",
        "from collections import OrderedDict\n",
        "from rdkit import Chem\n",
        "from rdkit.Chem import MolFromSmiles\n",
        "import networkx as nx\n",
        "from scipy.sparse import csr_matrix\n",
        "# imports TestbedDataset, rmse, mse, pearson, spearman, ci\n",
        "from EmbedDTI.utils import *\n",
        "from collections import defaultdict\n",
        "from rdkit.Chem.EnumerateStereoisomers import EnumerateStereoisomers, StereoEnumerationOptions\n",
        "from rdkit.Chem import AllChem\n",
        "\n",
        "\n",
        "def read_data(filename):\n",
        "    df = pd.read_csv('EmbedDTI/data/'+filename)\n",
        "    drugs,proteins,Y = list(df['compound_iso_smiles']),list(df['target_sequence']),list(df['affinity'])\n",
        "\n",
        "    return drugs,proteins,Y\n",
        "\n",
        "\n",
        "# read files(train and test)\n",
        "davis_train_drugs,davis_train_proteins,davis_train_Y = read_data(\"davis_train.csv\")\n",
        "davis_test_drugs,davis_test_proteins,davis_test_Y = read_data(\"davis_test.csv\")\n",
        "drugs = davis_train_drugs+davis_test_drugs\n",
        "print(len(drugs)) # 30056\n",
        "\n",
        "\n",
        "# 处理SMILES序列，转化为原子的图结构\n",
        "# Process SMILES sequences into graph structures of atoms\n",
        "def atom_features(atom):\n",
        "    return np.array(one_of_k_encoding_unk(atom.GetSymbol(),['C', 'N', 'O', 'S', 'F', 'Si', 'P', 'Cl', 'Br', 'Mg', 'Na','Ca', 'Fe', 'As', 'Al', 'I', 'B', 'V', 'K', 'Tl', 'Yb','Sb', 'Sn', 'Ag', 'Pd', 'Co', 'Se', 'Ti', 'Zn', 'H','Li', 'Ge', 'Cu', 'Au', 'Ni', 'Cd', 'In', 'Mn', 'Zr','Cr', 'Pt', 'Hg', 'Pb', 'Unknown']) +\n",
        "                    one_of_k_encoding(atom.GetDegree(), [0, 1, 2, 3, 4, 5, 6, 7, 8, 9, 10]) +\n",
        "                    one_of_k_encoding_unk(atom.GetTotalNumHs(), [0, 1, 2, 3, 4, 5, 6, 7, 8, 9, 10]) +\n",
        "                    one_of_k_encoding_unk(atom.GetImplicitValence(), [0, 1, 2, 3, 4, 5, 6, 7, 8, 9, 10]) + # 返回原子上隐式Hs的数量\n",
        "                    one_of_k_encoding_unk(atom.GetTotalValence(),[0,1,2,3,4,5,6,7,8,9,10]) +\n",
        "                    one_of_k_encoding_unk(atom.GetFormalCharge(),[0,1,2,3,4,5,6,7,8,9,10]) +\n",
        "                    [atom.GetIsAromatic()] +\n",
        "                    [atom.IsInRing()]\n",
        "                    )\n",
        "\n",
        "def one_of_k_encoding(x, allowable_set):\n",
        "    if x not in allowable_set:\n",
        "        raise Exception(\"input {0} not in allowable set{1}:\".format(x, allowable_set))\n",
        "    return list(map(lambda s: x == s, allowable_set))\n",
        "\n",
        "def one_of_k_encoding_unk(x, allowable_set):\n",
        "    \"\"\"Maps inputs not in the allowable set to the last element.\"\"\"\n",
        "    if x not in allowable_set:\n",
        "        x = allowable_set[-1]\n",
        "    return list(map(lambda s: x == s, allowable_set))\n",
        "\n",
        "\n",
        "def smile_to_graph(smile):\n",
        "    mol = Chem.MolFromSmiles(smile)\n",
        "    \n",
        "    c_size = mol.GetNumAtoms()  # 原子数 Atomic number\n",
        "    \n",
        "    features = [] \n",
        "    for atom in mol.GetAtoms():\n",
        "        feature = atom_features(atom)\n",
        "        features.append( feature / sum(feature) )\n",
        "\n",
        "    edges = []\n",
        "    for bond in mol.GetBonds():\n",
        "        edges.append([bond.GetBeginAtomIdx(), bond.GetEndAtomIdx()])\n",
        "    # 构建有向图 Building a directed graph\n",
        "    g = nx.Graph(edges).to_directed()\n",
        "    edge_index = []\n",
        "    for e1, e2 in g.edges:\n",
        "        edge_index.append([e1, e2])\n",
        "    return c_size, features, edge_index\n",
        "\n",
        "\n",
        "# # 处理SMILES序列，转化为基团的图结构 Process SMILES sequences into graph structures of groups\n",
        "\n",
        "MST_MAX_WEIGHT = 100 \n",
        "\n",
        "def get_mol(smiles):\n",
        "    mol = Chem.MolFromSmiles(smiles)\n",
        "    if mol is None: \n",
        "        return None\n",
        "    Chem.Kekulize(mol)\n",
        "    return mol\n",
        "\n",
        "# 构建邻接矩阵和特征矩阵\n",
        "# Build Adjacency Matrix and Feature Matrix\n",
        "# the \"idx\" argument is not used in the cluster_graph function\n",
        "# originally: def cluster_graph(mol,idx):\n",
        "def cluster_graph(mol,idx=None):\n",
        "\tn_atoms = mol.GetNumAtoms()\n",
        "\t# if n_atoms == 1: #special case\n",
        " #    \treturn [[0]], []\n",
        "\tcliques = []\n",
        "\tfor bond in mol.GetBonds():\n",
        "\t\ta1 = bond.GetBeginAtom().GetIdx()\n",
        "\t\ta2 = bond.GetEndAtom().GetIdx()\n",
        "\t\tif not bond.IsInRing():\n",
        "\t\t\tcliques.append([a1,a2])\n",
        "\n",
        "\tssr = [list(x) for x in Chem.GetSymmSSSR(mol)]\n",
        "\tcliques.extend(ssr)\n",
        "\n",
        "\t# nei_list为原子属于哪个基团\n",
        "\tnei_list = [[] for i in range(n_atoms)]\n",
        "\tfor i in range(len(cliques)):\n",
        "\t    for atom in cliques[i]:\n",
        "\t        nei_list[atom].append(i)\n",
        "\n",
        "\t#Merge Rings with intersection > 2 atoms\n",
        "\tfor i in range(len(cliques)):\n",
        "\t\tif len(cliques[i]) <= 2: continue\n",
        "\t\tfor atom in cliques[i]:\n",
        "\t\t\tfor j in nei_list[atom]:\n",
        "\t\t\t\tif i >= j or len(cliques[j]) <= 2: \n",
        "\t\t\t\t\tcontinue\n",
        "\t\t\t\tinter = set(cliques[i]) & set(cliques[j])\n",
        "\t\t\t\tif len(inter) > 2:\n",
        "\t\t\t\t\tcliques[i].extend(cliques[j])\n",
        "\t\t\t\t\tcliques[i] = list(set(cliques[i]))\n",
        "\t\t\t\t\tcliques[j] = []\n",
        "    \n",
        "\tcliques = [c for c in cliques if len(c) > 0]\n",
        "\tnei_list = [[] for i in range(n_atoms)]\n",
        "\tfor i in range(len(cliques)):\n",
        "\t\tfor atom in cliques[i]:\n",
        "\t\t\tnei_list[atom].append(i)\n",
        "\n",
        "\t# Build edges and add singleton cliques\n",
        "\tedges = defaultdict(int)\n",
        "\tfor atom in range(n_atoms):\n",
        "\t\tif len(nei_list[atom]) <= 1: \n",
        "\t\t\tcontinue\n",
        "\t\tcnei = nei_list[atom]\n",
        "\t\tbonds = [c for c in cnei if len(cliques[c]) == 2]\n",
        "\t\trings = [c for c in cnei if len(cliques[c]) > 4]\n",
        "\t\t\n",
        "\t\tfor i in range(len(cnei)):\n",
        "\t\t\tfor j in range(i + 1, len(cnei)):\n",
        "\t\t\t\tc1,c2 = cnei[i],cnei[j]\n",
        "\t\t\t\tinter = set(cliques[c1]) & set(cliques[c2])\n",
        "\t\t\t\tif edges[(c1,c2)] < len(inter):\n",
        "\t\t\t\t\tedges[(c1,c2)] = len(inter) # cnei[i] < cnei[j] by construction\n",
        "\t\t\t\t\tedges[(c2,c1)] = len(inter)\n",
        "\n",
        "\tedges = [u + (MST_MAX_WEIGHT-v,) for u,v in edges.items()]\n",
        "\trow,col,data = zip(*edges)\n",
        "\tdata = list(data)\n",
        "\tfor i in range(len(data)):\n",
        "\t\tdata[i] = 1\n",
        "\tdata = tuple(data)\n",
        "\tn_clique = len(cliques)\n",
        "\tclique_graph = csr_matrix( (data,(row,col)), shape=(n_clique,n_clique) )\n",
        "\tedges = [[row[i],col[i]] for i in range(len(row))]\n",
        "\t\n",
        "\treturn cliques, edges\n",
        "\n",
        "\n",
        "\n",
        "def clique_features(clique,edges,clique_idx,smile):\n",
        "    NumAtoms = len(clique) # 基团中除去氢原子的原子数\n",
        "    NumEdges = 0  # 与基团所连的边数\n",
        "    for edge in edges:\n",
        "        if clique_idx == edge[0] or clique_idx == edge[1]:\n",
        "            NumEdges += 1\n",
        "    mol = Chem.MolFromSmiles(smile)\n",
        "    NumHs = 0 # 基团中氢原子的个数\n",
        "    for atom in mol.GetAtoms():\n",
        "        if atom.GetAtomMapNum() in clique:\n",
        "            NumHs += atom.GetTotalNumHs()\n",
        "    # 基团中是否包含环\n",
        "    IsRing = 0\n",
        "    if len(clique) > 2:\n",
        "        IsRing = 1\n",
        "    # 基团中是否有键\n",
        "    IsBond = 0\n",
        "    if len(clique) == 2:\n",
        "        IsBond = 1\n",
        "\n",
        "    return np.array(one_of_k_encoding_unk(NumAtoms,[0,1,2,3,4,5,6,7,8,9,10]) + \n",
        "        one_of_k_encoding_unk(NumEdges,[0,1,2,3,4,5,6,7,8,9,10]) + \n",
        "        one_of_k_encoding_unk(NumHs,[0,1,2,3,4,5,6,7,8,9,10]) + \n",
        "        [IsRing] + \n",
        "        [IsBond]\n",
        "        )\n",
        "\n",
        "\n",
        "\n",
        "\n"
      ],
      "metadata": {
        "id": "fdU_i54amJgM",
        "outputId": "3db25e31-72fe-4699-c0b1-9eeaedbb543e",
        "colab": {
          "base_uri": "https://localhost:8080/"
        }
      },
      "execution_count": 7,
      "outputs": [
        {
          "output_type": "stream",
          "name": "stdout",
          "text": [
            "30056\n"
          ]
        }
      ]
    },
    {
      "cell_type": "markdown",
      "source": [
        "# Call embedDTI_smile_preprocess(...) to get the atom graph and substructures graph"
      ],
      "metadata": {
        "id": "iy6iSdhpXaoS"
      }
    },
    {
      "cell_type": "code",
      "source": [
        "def embedDTI_smile_preprocess(smile_to_process, test_MolToSmiles):\n",
        "    # atom representation\n",
        "    if (test_MolToSmiles):\n",
        "        # do we need to put SMILES into canonical representation or not?\n",
        "        smile_to_process = Chem.MolToSmiles(Chem.MolFromSmiles(smile_to_process),isomericSmiles=True)\n",
        "    atom_result = smile_to_graph(smile_to_process)\n",
        "\n",
        "    print(type(atom_result))\n",
        "    print(np.array(atom_result[0]))\n",
        "    print(np.array(atom_result[1]).shape)\n",
        "    print(np.array(atom_result[2]).shape)\n",
        "    print('__________________')\n",
        "\n",
        "\n",
        "    # substructure representation\n",
        "    our_mol = get_mol(smile_to_process)\n",
        "    our_clique, our_edge = cluster_graph(our_mol)\n",
        "\n",
        "    print(our_mol)\n",
        "    print(our_clique)\n",
        "    print(our_edge)\n",
        "\n",
        "    c_features = []\n",
        "    for idx in range(len(our_clique)):\n",
        "        # TODO check if it has to be canonical SMILES or not\n",
        "        cq_features = clique_features(our_clique[idx],our_edge,idx,smile_to_process)\n",
        "        c_features.append( cq_features / sum(cq_features) )\n",
        "    clique_size = len(our_clique)\n",
        "    graph = (clique_size, c_features, our_edge)\n",
        "\n",
        "    return atom_result, graph\n"
      ],
      "metadata": {
        "id": "fa65DswCFjhP"
      },
      "execution_count": 8,
      "outputs": []
    },
    {
      "cell_type": "markdown",
      "source": [
        "Explore data dimensions"
      ],
      "metadata": {
        "id": "N2_6WjpUX53B"
      }
    },
    {
      "cell_type": "code",
      "source": [
        "# our_smile = 'CN(C)CCOC(C1=CC=CC=C1)C1=CC=CC=C1'\n",
        "for i in [0,10,11,32,4,5]:\n",
        "  our_smile = drugs[i]\n",
        "  atom_result_A, graph_A = embedDTI_smile_preprocess(our_smile, True)\n",
        "  atom_result_B, graph_B = embedDTI_smile_preprocess(our_smile, False)\n"
      ],
      "metadata": {
        "colab": {
          "base_uri": "https://localhost:8080/"
        },
        "id": "FeoTAjOpHqU2",
        "outputId": "9a85631c-e376-4674-ec83-16f354464ed6"
      },
      "execution_count": 9,
      "outputs": [
        {
          "output_type": "stream",
          "name": "stdout",
          "text": [
            "<class 'tuple'>\n",
            "25\n",
            "(25, 101)\n",
            "(54, 2)\n",
            "__________________\n",
            "<rdkit.Chem.rdchem.Mol object at 0x7f187617f7b0>\n",
            "[[0, 1], [1, 2], [2, 3], [1, 9], [13, 14], [14, 15], [15, 16], [15, 17], [18, 19], [23, 24], [4, 5, 6, 7, 8, 3], [10, 9, 13, 12, 11], [18, 20, 21, 22, 23, 17]]\n",
            "[[0, 1], [1, 0], [0, 3], [3, 0], [1, 3], [3, 1], [1, 2], [2, 1], [2, 10], [10, 2], [3, 11], [11, 3], [4, 11], [11, 4], [4, 5], [5, 4], [5, 6], [6, 5], [5, 7], [7, 5], [6, 7], [7, 6], [7, 12], [12, 7], [8, 12], [12, 8], [9, 12], [12, 9]]\n",
            "<class 'tuple'>\n",
            "25\n",
            "(25, 101)\n",
            "(54, 2)\n",
            "__________________\n",
            "<rdkit.Chem.rdchem.Mol object at 0x7f192bc11a80>\n",
            "[[0, 1], [1, 2], [2, 3], [1, 9], [13, 14], [14, 15], [15, 16], [15, 17], [18, 19], [23, 24], [4, 5, 6, 7, 8, 3], [10, 9, 13, 12, 11], [18, 20, 21, 22, 23, 17]]\n",
            "[[0, 1], [1, 0], [0, 3], [3, 0], [1, 3], [3, 1], [1, 2], [2, 1], [2, 10], [10, 2], [3, 11], [11, 3], [4, 11], [11, 4], [4, 5], [5, 4], [5, 6], [6, 5], [5, 7], [7, 5], [6, 7], [7, 6], [7, 12], [12, 7], [8, 12], [12, 8], [9, 12], [12, 9]]\n",
            "<class 'tuple'>\n",
            "19\n",
            "(19, 101)\n",
            "(42, 2)\n",
            "__________________\n",
            "<rdkit.Chem.rdchem.Mol object at 0x7f192bc1e0d0>\n",
            "[[0, 1], [4, 5], [5, 6], [5, 7], [11, 12], [1, 18, 17, 4, 3, 2], [8, 7, 16, 15, 9], [10, 11, 13, 14, 15, 9]]\n",
            "[[0, 5], [5, 0], [1, 5], [5, 1], [1, 2], [2, 1], [1, 3], [3, 1], [2, 3], [3, 2], [3, 6], [6, 3], [6, 7], [7, 6], [4, 7], [7, 4]]\n",
            "<class 'tuple'>\n",
            "19\n",
            "(19, 101)\n",
            "(42, 2)\n",
            "__________________\n",
            "<rdkit.Chem.rdchem.Mol object at 0x7f18b3a92a80>\n",
            "[[0, 1], [4, 5], [5, 6], [5, 7], [11, 12], [1, 18, 17, 4, 3, 2], [8, 7, 16, 15, 9], [10, 11, 13, 14, 15, 9]]\n",
            "[[0, 5], [5, 0], [1, 5], [5, 1], [1, 2], [2, 1], [1, 3], [3, 1], [2, 3], [3, 2], [3, 6], [6, 3], [6, 7], [7, 6], [4, 7], [7, 4]]\n",
            "<class 'tuple'>\n",
            "35\n",
            "(35, 101)\n",
            "(80, 2)\n",
            "__________________\n",
            "<rdkit.Chem.rdchem.Mol object at 0x7f1898e58670>\n",
            "[[0, 1], [1, 2], [1, 3], [1, 4], [7, 8], [8, 9], [13, 14], [24, 25], [4, 34, 33, 7, 6, 5], [10, 9, 32, 31, 11], [12, 13, 23, 24, 31, 11], [15, 16, 17, 18, 22, 14], [19, 18, 22, 21, 20], [26, 27, 28, 29, 30, 25]]\n",
            "[[0, 1], [1, 0], [0, 2], [2, 0], [0, 3], [3, 0], [1, 2], [2, 1], [1, 3], [3, 1], [2, 3], [3, 2], [3, 8], [8, 3], [4, 8], [8, 4], [4, 5], [5, 4], [5, 9], [9, 5], [9, 10], [10, 9], [6, 10], [10, 6], [6, 11], [11, 6], [11, 12], [12, 11], [7, 10], [10, 7], [7, 13], [13, 7]]\n",
            "<class 'tuple'>\n",
            "35\n",
            "(35, 101)\n",
            "(80, 2)\n",
            "__________________\n",
            "<rdkit.Chem.rdchem.Mol object at 0x7f18b3a80710>\n",
            "[[0, 1], [1, 2], [1, 3], [1, 4], [7, 8], [8, 9], [13, 14], [24, 25], [4, 34, 33, 7, 6, 5], [10, 9, 32, 31, 11], [12, 13, 23, 24, 31, 11], [15, 16, 17, 18, 22, 14], [19, 18, 22, 21, 20], [26, 27, 28, 29, 30, 25]]\n",
            "[[0, 1], [1, 0], [0, 2], [2, 0], [0, 3], [3, 0], [1, 2], [2, 1], [1, 3], [3, 1], [2, 3], [3, 2], [3, 8], [8, 3], [4, 8], [8, 4], [4, 5], [5, 4], [5, 9], [9, 5], [9, 10], [10, 9], [6, 10], [10, 6], [6, 11], [11, 6], [11, 12], [12, 11], [7, 10], [10, 7], [7, 13], [13, 7]]\n",
            "<class 'tuple'>\n",
            "33\n",
            "(33, 101)\n",
            "(74, 2)\n",
            "__________________\n",
            "<rdkit.Chem.rdchem.Mol object at 0x7f18b39f3440>\n",
            "[[0, 1], [1, 2], [5, 6], [6, 7], [12, 13], [16, 17], [23, 24], [24, 25], [25, 26], [26, 27], [27, 28], [2, 23, 22, 21, 4, 3], [8, 9, 10, 15, 16, 7], [11, 10, 15, 14, 12], [18, 19, 20, 21, 4, 5], [29, 28, 32, 31, 30]]\n",
            "[[0, 1], [1, 0], [1, 11], [11, 1], [11, 14], [14, 11], [2, 14], [14, 2], [2, 3], [3, 2], [3, 12], [12, 3], [12, 13], [13, 12], [4, 13], [13, 4], [5, 12], [12, 5], [6, 11], [11, 6], [6, 7], [7, 6], [7, 8], [8, 7], [8, 9], [9, 8], [9, 10], [10, 9], [10, 15], [15, 10]]\n",
            "<class 'tuple'>\n",
            "33\n",
            "(33, 101)\n",
            "(74, 2)\n",
            "__________________\n",
            "<rdkit.Chem.rdchem.Mol object at 0x7f18b3a0f760>\n",
            "[[0, 1], [1, 2], [5, 6], [6, 7], [12, 13], [16, 17], [23, 24], [24, 25], [25, 26], [26, 27], [27, 28], [2, 23, 22, 21, 4, 3], [8, 9, 10, 15, 16, 7], [11, 10, 15, 14, 12], [18, 19, 20, 21, 4, 5], [29, 28, 32, 31, 30]]\n",
            "[[0, 1], [1, 0], [1, 11], [11, 1], [11, 14], [14, 11], [2, 14], [14, 2], [2, 3], [3, 2], [3, 12], [12, 3], [12, 13], [13, 12], [4, 13], [13, 4], [5, 12], [12, 5], [6, 11], [11, 6], [6, 7], [7, 6], [7, 8], [8, 7], [8, 9], [9, 8], [9, 10], [10, 9], [10, 15], [15, 10]]\n",
            "<class 'tuple'>\n",
            "34\n",
            "(34, 101)\n",
            "(74, 2)\n",
            "__________________\n",
            "<rdkit.Chem.rdchem.Mol object at 0x7f18b9b4fa80>\n",
            "[[0, 1], [1, 2], [1, 3], [3, 4], [4, 5], [5, 6], [6, 7], [6, 8], [8, 9], [12, 13], [13, 14], [17, 18], [19, 20], [27, 28], [28, 29], [9, 27, 26, 25, 11, 10], [15, 16, 17, 19, 21, 14], [22, 23, 24, 25, 11, 12], [30, 29, 33, 32, 31]]\n",
            "[[0, 1], [1, 0], [0, 2], [2, 0], [1, 2], [2, 1], [2, 3], [3, 2], [3, 4], [4, 3], [4, 5], [5, 4], [5, 6], [6, 5], [5, 7], [7, 5], [6, 7], [7, 6], [7, 8], [8, 7], [8, 15], [15, 8], [15, 17], [17, 15], [9, 17], [17, 9], [9, 10], [10, 9], [10, 16], [16, 10], [11, 16], [16, 11], [12, 16], [16, 12], [13, 15], [15, 13], [13, 14], [14, 13], [14, 18], [18, 14]]\n",
            "<class 'tuple'>\n",
            "34\n",
            "(34, 101)\n",
            "(74, 2)\n",
            "__________________\n",
            "<rdkit.Chem.rdchem.Mol object at 0x7f1876175cb0>\n",
            "[[0, 1], [1, 2], [1, 3], [3, 4], [4, 5], [5, 6], [6, 7], [6, 8], [8, 9], [12, 13], [13, 14], [17, 18], [19, 20], [27, 28], [28, 29], [9, 27, 26, 25, 11, 10], [15, 16, 17, 19, 21, 14], [22, 23, 24, 25, 11, 12], [30, 29, 33, 32, 31]]\n",
            "[[0, 1], [1, 0], [0, 2], [2, 0], [1, 2], [2, 1], [2, 3], [3, 2], [3, 4], [4, 3], [4, 5], [5, 4], [5, 6], [6, 5], [5, 7], [7, 5], [6, 7], [7, 6], [7, 8], [8, 7], [8, 15], [15, 8], [15, 17], [17, 15], [9, 17], [17, 9], [9, 10], [10, 9], [10, 16], [16, 10], [11, 16], [16, 11], [12, 16], [16, 12], [13, 15], [15, 13], [13, 14], [14, 13], [14, 18], [18, 14]]\n",
            "<class 'tuple'>\n",
            "34\n",
            "(34, 101)\n",
            "(74, 2)\n",
            "__________________\n",
            "<rdkit.Chem.rdchem.Mol object at 0x7f1875a0bf80>\n",
            "[[0, 1], [1, 2], [1, 3], [3, 4], [4, 5], [5, 6], [6, 7], [6, 8], [8, 9], [12, 13], [13, 14], [17, 18], [19, 20], [27, 28], [28, 29], [9, 27, 26, 25, 11, 10], [15, 16, 17, 19, 21, 14], [22, 23, 24, 25, 11, 12], [30, 29, 33, 32, 31]]\n",
            "[[0, 1], [1, 0], [0, 2], [2, 0], [1, 2], [2, 1], [2, 3], [3, 2], [3, 4], [4, 3], [4, 5], [5, 4], [5, 6], [6, 5], [5, 7], [7, 5], [6, 7], [7, 6], [7, 8], [8, 7], [8, 15], [15, 8], [15, 17], [17, 15], [9, 17], [17, 9], [9, 10], [10, 9], [10, 16], [16, 10], [11, 16], [16, 11], [12, 16], [16, 12], [13, 15], [15, 13], [13, 14], [14, 13], [14, 18], [18, 14]]\n",
            "<class 'tuple'>\n",
            "34\n",
            "(34, 101)\n",
            "(74, 2)\n",
            "__________________\n",
            "<rdkit.Chem.rdchem.Mol object at 0x7f18b39faad0>\n",
            "[[0, 1], [1, 2], [1, 3], [3, 4], [4, 5], [5, 6], [6, 7], [6, 8], [8, 9], [12, 13], [13, 14], [17, 18], [19, 20], [27, 28], [28, 29], [9, 27, 26, 25, 11, 10], [15, 16, 17, 19, 21, 14], [22, 23, 24, 25, 11, 12], [30, 29, 33, 32, 31]]\n",
            "[[0, 1], [1, 0], [0, 2], [2, 0], [1, 2], [2, 1], [2, 3], [3, 2], [3, 4], [4, 3], [4, 5], [5, 4], [5, 6], [6, 5], [5, 7], [7, 5], [6, 7], [7, 6], [7, 8], [8, 7], [8, 15], [15, 8], [15, 17], [17, 15], [9, 17], [17, 9], [9, 10], [10, 9], [10, 16], [16, 10], [11, 16], [16, 11], [12, 16], [16, 12], [13, 15], [15, 13], [13, 14], [14, 13], [14, 18], [18, 14]]\n"
          ]
        }
      ]
    }
  ]
}